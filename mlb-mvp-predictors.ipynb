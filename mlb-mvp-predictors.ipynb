{
 "cells": [
  {
   "cell_type": "markdown",
   "id": "eb7fcee4",
   "metadata": {},
   "source": [
    "# MLB MVP Predictor\n",
    "### Author: Adam Bergen\n",
    "### Date: 10-20-2025\n",
    "\n",
    "## Description: \n",
    "In any sport, the MVP (Most Valuable Player) is one of the most desirable awards for any player and one of the most debated awards among fans. In today's age with superstars such as Aaron Judge, Cal Raleigh, and Shohei Ohtani, fans often have trouble deciding who truly is worthy. Today, we want to leave it to the numbers, look at the stats of previous winners, and determine what stats truly make a winner."
   ]
  },
  {
   "cell_type": "markdown",
   "id": "55217b24",
   "metadata": {},
   "source": [
    "### Import Data and Related Packages"
   ]
  },
  {
   "cell_type": "code",
   "execution_count": 1,
   "id": "a2179bbc",
   "metadata": {},
   "outputs": [],
   "source": [
    "import pandas as pd\n",
    "import seaborn as sns\n",
    "import matplotlib.pyplot as plt\n",
    "import pybaseball as pb\n",
    "\n",
    "# MVP winners (AL + NL) since 2004\n",
    "mvp_data = [\n",
    "    # AL\n",
    "    (2024, \"Aaron Judge\", \"NY Yankees\", \"OF\", \"AL\"),\n",
    "    (2023, \"Shohei Ohtani\", \"LA Angels\", \"DH/SP\", \"AL\"),\n",
    "    (2022, \"Aaron Judge\", \"NY Yankees\", \"OF\", \"AL\"),\n",
    "    (2021, \"Shohei Ohtani\", \"LA Angels\", \"DH/SP\", \"AL\"),\n",
    "    (2020, \"José Abreu\", \"Chi White Sox\", \"1B\", \"AL\"),\n",
    "    (2019, \"Mike Trout\", \"LA Angels\", \"CF\", \"AL\"),\n",
    "    (2018, \"Mookie Betts\", \"Boston\", \"OF\", \"AL\"),\n",
    "    (2017, \"Jose Altuve\", \"Houston\", \"2B\", \"AL\"),\n",
    "    (2016, \"Mike Trout\", \"LA Angels\", \"CF\", \"AL\"),\n",
    "    (2015, \"Josh Donaldson\", \"Toronto\", \"3B\", \"AL\"),\n",
    "    (2014, \"Mike Trout\", \"LA Angels\", \"CF\", \"AL\"),\n",
    "\n",
    "    # NL\n",
    "    (2024, \"Shohei Ohtani\", \"LA Dodgers\", \"DH\", \"NL\"),\n",
    "    (2023, \"Ronald Acuña Jr.\", \"Atlanta\", \"OF\", \"NL\"),\n",
    "    (2022, \"Paul Goldschmidt\", \"St. Louis\", \"1B\", \"NL\"),\n",
    "    (2021, \"Bryce Harper\", \"Philadelphia\", \"OF\", \"NL\"),\n",
    "    (2020, \"Freddie Freeman\", \"Atlanta\", \"1B\", \"NL\"),\n",
    "    (2019, \"Cody Bellinger\", \"LA Dodgers\", \"RF\", \"NL\"),\n",
    "    (2018, \"Christian Yelich\", \"Milwaukee\", \"OF\", \"NL\"),\n",
    "    (2017, \"Giancarlo Stanton\", \"Miami\", \"RF\", \"NL\"),\n",
    "    (2016, \"Kris Bryant\", \"Chi Cubs\", \"3B\", \"NL\"),\n",
    "    (2015, \"Bryce Harper\", \"Washington\", \"RF\", \"NL\"),\n",
    "    (2014, \"Clayton Kershaw\", \"LA Dodgers\", \"SP\", \"NL\"),\n",
    "]\n",
    "\n",
    "# Convert to DataFrame\n",
    "mvp_df = pd.DataFrame(mvp_data, columns=[\"Year\", \"Player\", \"Team\", \"Position\", \"League\"])"
   ]
  },
  {
   "cell_type": "markdown",
   "id": "b8a63715",
   "metadata": {},
   "source": [
    "### Examine the Data\n",
    "\n",
    "Here, we will begin to examine the structure of the data to help us get a better idea. Looking at just the heads of the 2025, we can begin to see the structure."
   ]
  },
  {
   "cell_type": "code",
   "execution_count": 2,
   "id": "1d191e1e",
   "metadata": {},
   "outputs": [
    {
     "name": "stdout",
     "output_type": "stream",
     "text": [
      "2025 Batting Stats: 145 players\n"
     ]
    }
   ],
   "source": [
    "# Get 2025 batting data\n",
    "bat_2025 = pb.batting_stats(2025)\n",
    "print(f\"2025 Batting Stats: {bat_2025.shape[0]} players\")"
   ]
  },
  {
   "cell_type": "code",
   "execution_count": 3,
   "id": "caf37634",
   "metadata": {},
   "outputs": [],
   "source": [
    "# Prepare 2025 data\n",
    "bat_2025_clean = bat_2025.copy()\n",
    "bat_2025_clean.rename(columns={\"Name\": \"Player\", \"Season\": \"Year\"}, inplace=True)\n"
   ]
  },
  {
   "cell_type": "code",
   "execution_count": 4,
   "id": "4b44b801",
   "metadata": {},
   "outputs": [
    {
     "name": "stdout",
     "output_type": "stream",
     "text": [
      "Training data: 1522 players, 19 MVP winners\n"
     ]
    }
   ],
   "source": [
    "# Get historical data (2014-2024)\n",
    "bat_10years = pb.batting_stats(2014, 2024)\n",
    "bat_10years.rename(columns={\"Name\": \"Player\", \"Season\": \"Year\"}, inplace=True)\n",
    "\n",
    "# Merge with MVP data\n",
    "merged = pd.merge(bat_10years, mvp_df, on=[\"Player\", \"Year\"], how=\"left\")\n",
    "merged[\"MVP\"] = merged[\"League\"].notna().astype(int)\n",
    "merged.drop(columns=[\"Team_y\", \"Position\", \"League\"], inplace=True, errors=\"ignore\")\n",
    "merged.rename(columns={\"Team_x\": \"Team\"}, inplace=True)\n",
    "\n",
    "print(f\"Training data: {merged.shape[0]} players, {merged['MVP'].sum()} MVP winners\")\n"
   ]
  },
  {
   "cell_type": "markdown",
   "id": "f9a138b6",
   "metadata": {},
   "source": [
    "# Select features for MVP prediction"
   ]
  },
  {
   "cell_type": "code",
   "execution_count": 5,
   "id": "f8c8a785",
   "metadata": {},
   "outputs": [
    {
     "name": "stdout",
     "output_type": "stream",
     "text": [
      "Dataset shape: (1522, 16)\n",
      "Features used: ['WAR', 'wRC+', 'OPS', 'HR', 'RBI', 'R', 'OBP', 'SLG', 'AVG', 'SB', 'BB%', 'K%', 'wOBA']\n",
      "MVP winners in data: 19\n"
     ]
    }
   ],
   "source": [
    "# Define features for batters\n",
    "batting_features = [\n",
    "    \"WAR\", \"wRC+\", \"OPS\", \"HR\", \"RBI\", \"R\", \"OBP\", \"SLG\", \"AVG\",\n",
    "    \"SB\", \"BB%\", \"K%\", \"wOBA\"\n",
    "]\n",
    "\n",
    "# Filter out rows missing key stats\n",
    "data = merged[[\"Player\", \"Year\"] + batting_features + [\"MVP\"]].dropna()\n",
    "\n",
    "print(\"Dataset shape:\", data.shape)\n",
    "print(\"Features used:\", batting_features)\n",
    "print(\"MVP winners in data:\", data[\"MVP\"].sum())\n",
    "\n",
    "X = data[batting_features]\n",
    "y = data[\"MVP\"]\n",
    "meta = data[[\"Player\", \"Year\"]]  # to keep track of names"
   ]
  },
  {
   "cell_type": "markdown",
   "id": "26a1367e",
   "metadata": {},
   "source": [
    "## Train-Test Split + MLP Model"
   ]
  },
  {
   "cell_type": "code",
   "execution_count": 6,
   "id": "527b01a1",
   "metadata": {},
   "outputs": [
    {
     "name": "stdout",
     "output_type": "stream",
     "text": [
      "Training set size: 1217\n",
      "Test set size: 305\n",
      "MVP winners in training: 15\n",
      "MVP winners in test: 4\n"
     ]
    }
   ],
   "source": [
    "from sklearn.model_selection import train_test_split\n",
    "from sklearn.preprocessing import StandardScaler\n",
    "from sklearn.metrics import confusion_matrix, classification_report\n",
    "import torch\n",
    "\n",
    "# Train-test split with stratification\n",
    "X_train, X_test, y_train, y_test, meta_train, meta_test = train_test_split(\n",
    "    X, y, meta, test_size=0.2, stratify=y, random_state=42\n",
    ")\n",
    "\n",
    "print(\"Training set size:\", len(X_train))\n",
    "print(\"Test set size:\", len(X_test))\n",
    "print(\"MVP winners in training:\", y_train.sum())\n",
    "print(\"MVP winners in test:\", y_test.sum())\n",
    "\n",
    "# Scale numeric features\n",
    "scaler = StandardScaler()\n",
    "X_train_scaled = scaler.fit_transform(X_train)\n",
    "X_test_scaled = scaler.transform(X_test)\n",
    "\n",
    "# Convert to tensors\n",
    "X_train_t = torch.tensor(X_train_scaled, dtype=torch.float32)\n",
    "y_train_t = torch.tensor(y_train.values, dtype=torch.float32).view(-1, 1)\n",
    "X_test_t = torch.tensor(X_test_scaled, dtype=torch.float32)\n",
    "y_test_t = torch.tensor(y_test.values, dtype=torch.float32).view(-1, 1)\n"
   ]
  },
  {
   "cell_type": "code",
   "execution_count": 7,
   "id": "6f7972ff",
   "metadata": {},
   "outputs": [],
   "source": [
    "import torch.nn as nn\n",
    "\n",
    "class MVPNet(nn.Module):\n",
    "    def __init__(self, input_dim):\n",
    "        super().__init__()\n",
    "        self.net = nn.Sequential(\n",
    "            nn.Linear(input_dim, 64),\n",
    "            nn.ReLU(),\n",
    "            nn.Dropout(0.2),\n",
    "            nn.Linear(64, 32),\n",
    "            nn.ReLU(),\n",
    "            nn.Linear(32, 1),\n",
    "            nn.Sigmoid()\n",
    "        )\n",
    "\n",
    "    def forward(self, x):\n",
    "        return self.net(x)\n",
    "\n",
    "model = MVPNet(X_train.shape[1])\n"
   ]
  },
  {
   "cell_type": "code",
   "execution_count": 8,
   "id": "9549434d",
   "metadata": {},
   "outputs": [],
   "source": [
    "import torch.optim as optim\n",
    "\n",
    "# Train model\n",
    "criterion = nn.BCELoss()\n",
    "optimizer = optim.Adam(model.parameters(), lr=1e-3)\n",
    "\n",
    "for epoch in range(50):\n",
    "    model.train()\n",
    "    optimizer.zero_grad()\n",
    "    outputs = model(X_train_t)\n",
    "    loss = criterion(outputs, y_train_t)\n",
    "    loss.backward()\n",
    "    optimizer.step()\n"
   ]
  },
  {
   "cell_type": "markdown",
   "id": "f57704f1",
   "metadata": {},
   "source": [
    "## Evaluation of the Model"
   ]
  },
  {
   "cell_type": "code",
   "execution_count": 9,
   "id": "de99a7a5",
   "metadata": {},
   "outputs": [
    {
     "name": "stdout",
     "output_type": "stream",
     "text": [
      "Accuracy: 0.987\n",
      "Confusion Matrix: [301   0   4   0]\n",
      "Max probability: 0.3506\n",
      "Players with prob > 0.2: 115\n"
     ]
    }
   ],
   "source": [
    "# Evaluate model\n",
    "model.eval()\n",
    "with torch.no_grad():\n",
    "    preds = model(X_test_t)\n",
    "    probs = preds.numpy().flatten()\n",
    "    pred_binary = (probs > 0.5).astype(int)\n",
    "\n",
    "# Results\n",
    "accuracy = (pred_binary == y_test_t.numpy().flatten()).mean()\n",
    "cm = confusion_matrix(y_test_t.numpy().flatten(), pred_binary)\n",
    "\n",
    "print(f\"Accuracy: {accuracy:.3f}\")\n",
    "print(f\"Confusion Matrix: {cm.flatten()}\")\n",
    "print(f\"Max probability: {probs.max():.4f}\")\n",
    "print(f\"Players with prob > 0.2: {(probs > 0.2).sum()}\")\n"
   ]
  },
  {
   "cell_type": "code",
   "execution_count": 10,
   "id": "452f3782",
   "metadata": {},
   "outputs": [
    {
     "name": "stdout",
     "output_type": "stream",
     "text": [
      "Threshold 0.1: Accuracy=0.167, CM=[ 50 251   3   1]\n",
      "Threshold 0.2: Accuracy=0.610, CM=[186 115   4   0]\n",
      "Threshold 0.3: Accuracy=0.941, CM=[287  14   4   0]\n",
      "Threshold 0.4: Accuracy=0.987, CM=[301   0   4   0]\n",
      "Threshold 0.5: Accuracy=0.987, CM=[301   0   4   0]\n"
     ]
    }
   ],
   "source": [
    "# Try different thresholds\n",
    "thresholds = [0.1, 0.2, 0.3, 0.4, 0.5]\n",
    "for threshold in thresholds:\n",
    "    pred_thresh = (probs > threshold).astype(int)\n",
    "    cm_thresh = confusion_matrix(y_test_t.numpy().flatten(), pred_thresh)\n",
    "    accuracy_thresh = (pred_thresh == y_test_t.numpy().flatten()).mean()\n",
    "    print(f\"Threshold {threshold}: Accuracy={accuracy_thresh:.3f}, CM={cm_thresh.flatten()}\")\n"
   ]
  },
  {
   "cell_type": "code",
   "execution_count": 11,
   "id": "e4af1534",
   "metadata": {},
   "outputs": [],
   "source": [
    "# Create weighted model for imbalanced data\n",
    "from sklearn.utils.class_weight import compute_class_weight\n",
    "import numpy as np\n",
    "\n",
    "class_weights = compute_class_weight('balanced', classes=np.unique(y_train), y=y_train)\n",
    "class_weight_dict = {0: class_weights[0], 1: class_weights[1]}\n",
    "\n",
    "class WeightedMVPNet(nn.Module):\n",
    "    def __init__(self, input_dim):\n",
    "        super().__init__()\n",
    "        self.net = nn.Sequential(\n",
    "            nn.Linear(input_dim, 128), nn.ReLU(), nn.Dropout(0.3),\n",
    "            nn.Linear(128, 64), nn.ReLU(), nn.Dropout(0.2),\n",
    "            nn.Linear(64, 32), nn.ReLU(),\n",
    "            nn.Linear(32, 1), nn.Sigmoid()\n",
    "        )\n",
    "    def forward(self, x):\n",
    "        return self.net(x)\n",
    "\n",
    "weighted_model = WeightedMVPNet(X_train.shape[1])\n",
    "pos_weight = torch.tensor([class_weight_dict[1] / class_weight_dict[0]])\n",
    "criterion_weighted = nn.BCEWithLogitsLoss(pos_weight=pos_weight)\n",
    "optimizer_weighted = optim.Adam(weighted_model.parameters(), lr=1e-3)\n",
    "\n",
    "# Train weighted model\n",
    "for epoch in range(100):\n",
    "    weighted_model.train()\n",
    "    optimizer_weighted.zero_grad()\n",
    "    outputs = weighted_model(X_train_t)\n",
    "    loss = criterion_weighted(outputs, y_train_t)\n",
    "    loss.backward()\n",
    "    optimizer_weighted.step()\n"
   ]
  },
  {
   "cell_type": "code",
   "execution_count": 12,
   "id": "42603841",
   "metadata": {},
   "outputs": [
    {
     "name": "stdout",
     "output_type": "stream",
     "text": [
      "Weighted Model - Accuracy: 0.970\n",
      "Weighted Model - Max probability: 1.0000\n",
      "Weighted Model - CM: [295   6   3   1]\n"
     ]
    }
   ],
   "source": [
    "# Evaluate weighted model\n",
    "weighted_model.eval()\n",
    "with torch.no_grad():\n",
    "    weighted_preds = weighted_model(X_test_t)\n",
    "    weighted_probs = weighted_preds.numpy().flatten()\n",
    "    weighted_pred_binary = (weighted_probs > 0.5).astype(int)\n",
    "\n",
    "cm_weighted = confusion_matrix(y_test_t.numpy().flatten(), weighted_pred_binary)\n",
    "accuracy_weighted = (weighted_pred_binary == y_test_t.numpy().flatten()).mean()\n",
    "\n",
    "print(f\"Weighted Model - Accuracy: {accuracy_weighted:.3f}\")\n",
    "print(f\"Weighted Model - Max probability: {weighted_probs.max():.4f}\")\n",
    "print(f\"Weighted Model - CM: {cm_weighted.flatten()}\")\n"
   ]
  },
  {
   "cell_type": "code",
   "execution_count": 13,
   "id": "33e0caa3",
   "metadata": {},
   "outputs": [
    {
     "name": "stdout",
     "output_type": "stream",
     "text": [
      "Top 10 MVP Candidates for 2025:\n",
      "         Player  MVP_Probability  WAR  wRC+   OPS  HR  RBI\n",
      "    Aaron Judge         0.999997 10.1   204 1.144  53  114\n",
      "George Springer         0.994686  5.2   166 0.959  32   84\n",
      "  Shohei Ohtani         0.963418  7.5   172 1.014  55  102\n",
      "      Juan Soto         0.438224  5.8   156 0.921  43  105\n",
      " Corbin Carroll         0.118203  6.5   139 0.883  31   84\n",
      "Geraldo Perdomo         0.049358  7.1   138 0.851  20  100\n",
      "   Bryce Harper         0.038600  3.5   131 0.844  27   75\n",
      "    Ketel Marte         0.032035  4.6   145 0.893  28   72\n",
      "    Kyle Tucker         0.027377  4.5   136 0.841  22   73\n",
      "Freddie Freeman         0.022199  3.8   139 0.869  24   90\n"
     ]
    }
   ],
   "source": [
    "# 2025 MVP Predictions\n",
    "data_2025 = bat_2025_clean[[\"Player\", \"Year\"] + batting_features].copy().dropna()\n",
    "X_2025 = data_2025[batting_features]\n",
    "X_2025_scaled = scaler.transform(X_2025)\n",
    "X_2025_t = torch.tensor(X_2025_scaled, dtype=torch.float32)\n",
    "\n",
    "# Make predictions\n",
    "weighted_model.eval()\n",
    "with torch.no_grad():\n",
    "    preds_2025 = weighted_model(X_2025_t)\n",
    "    probs_2025 = preds_2025.numpy().flatten()\n",
    "\n",
    "results_2025 = data_2025.copy()\n",
    "results_2025[\"MVP_Probability\"] = probs_2025\n",
    "\n",
    "# Top 10 MVP candidates for 2025\n",
    "top_2025 = results_2025.sort_values(\"MVP_Probability\", ascending=False).head(10)\n",
    "print(\"Top 10 MVP Candidates for 2025:\")\n",
    "print(top_2025[[\"Player\", \"MVP_Probability\", \"WAR\", \"wRC+\", \"OPS\", \"HR\", \"RBI\"]].to_string(index=False))\n"
   ]
  },
  {
   "cell_type": "code",
   "execution_count": 14,
   "id": "83bb0f9f",
   "metadata": {},
   "outputs": [
    {
     "name": "stdout",
     "output_type": "stream",
     "text": [
      "Top 5 MVP Candidates (Detailed):\n",
      "         Player  MVP_Probability  WAR  wRC+   OPS  HR  RBI  SB   AVG\n",
      "    Aaron Judge         0.999997 10.1   204 1.144  53  114  12 0.331\n",
      "George Springer         0.994686  5.2   166 0.959  32   84  18 0.309\n",
      "  Shohei Ohtani         0.963418  7.5   172 1.014  55  102  20 0.282\n",
      "      Juan Soto         0.438224  5.8   156 0.921  43  105  38 0.263\n",
      " Corbin Carroll         0.118203  6.5   139 0.883  31   84  32 0.259\n"
     ]
    }
   ],
   "source": [
    "# Top 5 detailed candidates\n",
    "print(\"Top 5 MVP Candidates (Detailed):\")\n",
    "top_5_2025 = results_2025.sort_values(\"MVP_Probability\", ascending=False).head(5)\n",
    "print(top_5_2025[[\"Player\", \"MVP_Probability\", \"WAR\", \"wRC+\", \"OPS\", \"HR\", \"RBI\", \"SB\", \"AVG\"]].to_string(index=False))\n"
   ]
  },
  {
   "cell_type": "code",
   "execution_count": 15,
   "id": "ee24fbb1",
   "metadata": {},
   "outputs": [
    {
     "name": "stdout",
     "output_type": "stream",
     "text": [
      "Top 5 Most Important Features:\n",
      "   Feature  Importance\n",
      "9       SB   22.053694\n",
      "11      K%   21.503519\n",
      "10     BB%   20.284885\n",
      "8      AVG   20.145248\n",
      "2      OPS   19.811581\n"
     ]
    }
   ],
   "source": [
    "# Feature Importance Analysis\n",
    "def analyze_feature_importance(model, feature_names):\n",
    "    first_layer_weights = model.net[0].weight.data.numpy()\n",
    "    feature_importance = np.sum(np.abs(first_layer_weights), axis=0)\n",
    "    return pd.DataFrame({\n",
    "        'Feature': feature_names,\n",
    "        'Importance': feature_importance\n",
    "    }).sort_values('Importance', ascending=False)\n",
    "\n",
    "weighted_importance = analyze_feature_importance(weighted_model, batting_features)\n",
    "print(\"Top 5 Most Important Features:\")\n",
    "print(weighted_importance.head())\n"
   ]
  },
  {
   "cell_type": "code",
   "execution_count": 16,
   "id": "0f552d0e",
   "metadata": {},
   "outputs": [
    {
     "data": {
      "image/png": "[encoded data removed]",
      "text/plain": [
       "<Figure size 1000x600 with 1 Axes>"
      ]
     },
     "metadata": {},
     "output_type": "display_data"
    }
   ],
   "source": [
    "# Simple feature importance visualization\n",
    "import matplotlib.pyplot as plt\n",
    "\n",
    "plt.figure(figsize=(10, 6))\n",
    "plt.barh(range(len(weighted_importance)), weighted_importance['Importance'])\n",
    "plt.yticks(range(len(weighted_importance)), weighted_importance['Feature'])\n",
    "plt.xlabel('Importance Score')\n",
    "plt.title('Feature Importance for MVP Prediction')\n",
    "plt.gca().invert_yaxis()\n",
    "plt.tight_layout()\n",
    "plt.show()\n"
   ]
  }
 ],
 "metadata": {
  "kernelspec": {
   "display_name": "baseball-analysis",
   "language": "python",
   "name": "python3"
  },
  "language_info": {
   "codemirror_mode": {
    "name": "ipython",
    "version": 3
   },
   "file_extension": ".py",
   "mimetype": "text/x-python",
   "name": "python",
   "nbconvert_exporter": "python",
   "pygments_lexer": "ipython3",
   "version": "3.12.12"
  }
 },
 "nbformat": 4,
 "nbformat_minor": 5
}
