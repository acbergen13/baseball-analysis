{
 "cells": [
  {
   "cell_type": "markdown",
   "id": "eb7fcee4",
   "metadata": {},
   "source": [
    "# MLB MVP Predictor\n",
    "### Author: Adam Bergen\n",
    "### Date: 10-20-2025\n",
    "\n",
    "## Description: \n",
    "In any sport, the MVP (Most Valuable Player) is one of the most desirable awards for any player and one of the most debated awards among fans. In today's age with superstars such as Aaron Judge, Cal Raleigh, and Shohei Ohtani, fans often have trouble deciding who truly is worthy. Today, we want to leave it to the numbers, look at the stats of previous winners, and determine what stats truly make a winner."
   ]
  },
  {
   "cell_type": "markdown",
   "id": "55217b24",
   "metadata": {},
   "source": [
    "### Import Data and Related Packages"
   ]
  },
  {
   "cell_type": "code",
   "execution_count": 14,
   "id": "a2179bbc",
   "metadata": {},
   "outputs": [],
   "source": [
    "import pandas as pd\n",
    "import seaborn as sns\n",
    "import matplotlib.pyplot as plt\n",
    "import pybaseball as pb\n",
    "\n",
    "import pandas as pd\n",
    "\n",
    "# MVP winners (AL + NL) since 2004\n",
    "mvp_data = [\n",
    "    # AL\n",
    "    (2024, \"Aaron Judge\", \"NY Yankees\", \"OF\", \"AL\"),\n",
    "    (2023, \"Shohei Ohtani\", \"LA Angels\", \"DH/SP\", \"AL\"),\n",
    "    (2022, \"Aaron Judge\", \"NY Yankees\", \"OF\", \"AL\"),\n",
    "    (2021, \"Shohei Ohtani\", \"LA Angels\", \"DH/SP\", \"AL\"),\n",
    "    (2020, \"José Abreu\", \"Chi White Sox\", \"1B\", \"AL\"),\n",
    "    (2019, \"Mike Trout\", \"LA Angels\", \"CF\", \"AL\"),\n",
    "    (2018, \"Mookie Betts\", \"Boston\", \"OF\", \"AL\"),\n",
    "    (2017, \"Jose Altuve\", \"Houston\", \"2B\", \"AL\"),\n",
    "    (2016, \"Mike Trout\", \"LA Angels\", \"CF\", \"AL\"),\n",
    "    (2015, \"Josh Donaldson\", \"Toronto\", \"3B\", \"AL\"),\n",
    "    (2014, \"Mike Trout\", \"LA Angels\", \"CF\", \"AL\"),\n",
    "\n",
    "    # NL\n",
    "    (2024, \"Shohei Ohtani\", \"LA Dodgers\", \"DH\", \"NL\"),\n",
    "    (2023, \"Ronald Acuña Jr.\", \"Atlanta\", \"OF\", \"NL\"),\n",
    "    (2022, \"Paul Goldschmidt\", \"St. Louis\", \"1B\", \"NL\"),\n",
    "    (2021, \"Bryce Harper\", \"Philadelphia\", \"OF\", \"NL\"),\n",
    "    (2020, \"Freddie Freeman\", \"Atlanta\", \"1B\", \"NL\"),\n",
    "    (2019, \"Cody Bellinger\", \"LA Dodgers\", \"RF\", \"NL\"),\n",
    "    (2018, \"Christian Yelich\", \"Milwaukee\", \"OF\", \"NL\"),\n",
    "    (2017, \"Giancarlo Stanton\", \"Miami\", \"RF\", \"NL\"),\n",
    "    (2016, \"Kris Bryant\", \"Chi Cubs\", \"3B\", \"NL\"),\n",
    "    (2015, \"Bryce Harper\", \"Washington\", \"RF\", \"NL\"),\n",
    "    (2014, \"Clayton Kershaw\", \"LA Dodgers\", \"SP\", \"NL\"),\n",
    "]\n",
    "\n",
    "# Convert to DataFrame\n",
    "mvp_df = pd.DataFrame(mvp_data, columns=[\"Year\", \"Player\", \"Team\", \"Position\", \"League\"])"
   ]
  },
  {
   "cell_type": "markdown",
   "id": "b8a63715",
   "metadata": {},
   "source": [
    "### Examine the Data\n",
    "\n",
    "Here, we will begin to examine the structure of the data to help us get a better idea. Looking at just the heads of the 2025, we can begin to see the structure."
   ]
  },
  {
   "cell_type": "code",
   "execution_count": null,
   "id": "1d191e1e",
   "metadata": {},
   "outputs": [],
   "source": [
    "bat_2025 = pb.batting_stats(2025)\n",
    "pit_2025 = pb.pitching_stats(2025)\n",
    "\n",
    "bat_2025.head()\n",
    "pit_2025.head()"
   ]
  },
  {
   "cell_type": "code",
   "execution_count": 15,
   "id": "4b44b801",
   "metadata": {},
   "outputs": [
    {
     "name": "stdout",
     "output_type": "stream",
     "text": [
      "Shape after merge: (1522, 321)\n"
     ]
    },
    {
     "data": {
      "application/vnd.microsoft.datawrangler.viewer.v0+json": {
       "columns": [
        {
         "name": "index",
         "rawType": "int64",
         "type": "integer"
        },
        {
         "name": "IDfg",
         "rawType": "int64",
         "type": "integer"
        },
        {
         "name": "Year",
         "rawType": "int64",
         "type": "integer"
        },
        {
         "name": "Player",
         "rawType": "object",
         "type": "string"
        },
        {
         "name": "Team",
         "rawType": "object",
         "type": "string"
        },
        {
         "name": "Age",
         "rawType": "int64",
         "type": "integer"
        },
        {
         "name": "G",
         "rawType": "int64",
         "type": "integer"
        },
        {
         "name": "AB",
         "rawType": "int64",
         "type": "integer"
        },
        {
         "name": "PA",
         "rawType": "int64",
         "type": "integer"
        },
        {
         "name": "H",
         "rawType": "int64",
         "type": "integer"
        },
        {
         "name": "1B",
         "rawType": "int64",
         "type": "integer"
        },
        {
         "name": "2B",
         "rawType": "int64",
         "type": "integer"
        },
        {
         "name": "3B",
         "rawType": "int64",
         "type": "integer"
        },
        {
         "name": "HR",
         "rawType": "int64",
         "type": "integer"
        },
        {
         "name": "R",
         "rawType": "int64",
         "type": "integer"
        },
        {
         "name": "RBI",
         "rawType": "int64",
         "type": "integer"
        },
        {
         "name": "BB",
         "rawType": "int64",
         "type": "integer"
        },
        {
         "name": "IBB",
         "rawType": "int64",
         "type": "integer"
        },
        {
         "name": "SO",
         "rawType": "int64",
         "type": "integer"
        },
        {
         "name": "HBP",
         "rawType": "int64",
         "type": "integer"
        },
        {
         "name": "SF",
         "rawType": "int64",
         "type": "integer"
        },
        {
         "name": "SH",
         "rawType": "int64",
         "type": "integer"
        },
        {
         "name": "GDP",
         "rawType": "int64",
         "type": "integer"
        },
        {
         "name": "SB",
         "rawType": "int64",
         "type": "integer"
        },
        {
         "name": "CS",
         "rawType": "int64",
         "type": "integer"
        },
        {
         "name": "AVG",
         "rawType": "float64",
         "type": "float"
        },
        {
         "name": "GB",
         "rawType": "int64",
         "type": "integer"
        },
        {
         "name": "FB",
         "rawType": "int64",
         "type": "integer"
        },
        {
         "name": "LD",
         "rawType": "int64",
         "type": "integer"
        },
        {
         "name": "IFFB",
         "rawType": "int64",
         "type": "integer"
        },
        {
         "name": "Pitches",
         "rawType": "int64",
         "type": "integer"
        },
        {
         "name": "Balls",
         "rawType": "int64",
         "type": "integer"
        },
        {
         "name": "Strikes",
         "rawType": "int64",
         "type": "integer"
        },
        {
         "name": "IFH",
         "rawType": "int64",
         "type": "integer"
        },
        {
         "name": "BU",
         "rawType": "int64",
         "type": "integer"
        },
        {
         "name": "BUH",
         "rawType": "int64",
         "type": "integer"
        },
        {
         "name": "BB%",
         "rawType": "float64",
         "type": "float"
        },
        {
         "name": "K%",
         "rawType": "float64",
         "type": "float"
        },
        {
         "name": "BB/K",
         "rawType": "float64",
         "type": "float"
        },
        {
         "name": "OBP",
         "rawType": "float64",
         "type": "float"
        },
        {
         "name": "SLG",
         "rawType": "float64",
         "type": "float"
        },
        {
         "name": "OPS",
         "rawType": "float64",
         "type": "float"
        },
        {
         "name": "ISO",
         "rawType": "float64",
         "type": "float"
        },
        {
         "name": "BABIP",
         "rawType": "float64",
         "type": "float"
        },
        {
         "name": "GB/FB",
         "rawType": "float64",
         "type": "float"
        },
        {
         "name": "LD%",
         "rawType": "float64",
         "type": "float"
        },
        {
         "name": "GB%",
         "rawType": "float64",
         "type": "float"
        },
        {
         "name": "FB%",
         "rawType": "float64",
         "type": "float"
        },
        {
         "name": "IFFB%",
         "rawType": "float64",
         "type": "float"
        },
        {
         "name": "HR/FB",
         "rawType": "float64",
         "type": "float"
        },
        {
         "name": "IFH%",
         "rawType": "float64",
         "type": "float"
        },
        {
         "name": "BUH%",
         "rawType": "float64",
         "type": "float"
        },
        {
         "name": "wOBA",
         "rawType": "float64",
         "type": "float"
        },
        {
         "name": "wRAA",
         "rawType": "float64",
         "type": "float"
        },
        {
         "name": "wRC",
         "rawType": "int64",
         "type": "integer"
        },
        {
         "name": "Bat",
         "rawType": "float64",
         "type": "float"
        },
        {
         "name": "Fld",
         "rawType": "float64",
         "type": "float"
        },
        {
         "name": "Rep",
         "rawType": "float64",
         "type": "float"
        },
        {
         "name": "Pos",
         "rawType": "float64",
         "type": "float"
        },
        {
         "name": "RAR",
         "rawType": "float64",
         "type": "float"
        },
        {
         "name": "WAR",
         "rawType": "float64",
         "type": "float"
        },
        {
         "name": "Dol",
         "rawType": "object",
         "type": "string"
        },
        {
         "name": "Spd",
         "rawType": "float64",
         "type": "float"
        },
        {
         "name": "wRC+",
         "rawType": "int64",
         "type": "integer"
        },
        {
         "name": "WPA",
         "rawType": "float64",
         "type": "float"
        },
        {
         "name": "-WPA",
         "rawType": "float64",
         "type": "float"
        },
        {
         "name": "+WPA",
         "rawType": "float64",
         "type": "float"
        },
        {
         "name": "RE24",
         "rawType": "float64",
         "type": "float"
        },
        {
         "name": "REW",
         "rawType": "float64",
         "type": "float"
        },
        {
         "name": "pLI",
         "rawType": "float64",
         "type": "float"
        },
        {
         "name": "phLI",
         "rawType": "float64",
         "type": "float"
        },
        {
         "name": "PH",
         "rawType": "int64",
         "type": "integer"
        },
        {
         "name": "WPA/LI",
         "rawType": "float64",
         "type": "float"
        },
        {
         "name": "Clutch",
         "rawType": "float64",
         "type": "float"
        },
        {
         "name": "FB% (Pitch)",
         "rawType": "float64",
         "type": "float"
        },
        {
         "name": "FBv",
         "rawType": "float64",
         "type": "float"
        },
        {
         "name": "SL%",
         "rawType": "float64",
         "type": "float"
        },
        {
         "name": "SLv",
         "rawType": "float64",
         "type": "float"
        },
        {
         "name": "CT%",
         "rawType": "float64",
         "type": "float"
        },
        {
         "name": "CTv",
         "rawType": "float64",
         "type": "float"
        },
        {
         "name": "CB%",
         "rawType": "float64",
         "type": "float"
        },
        {
         "name": "CBv",
         "rawType": "float64",
         "type": "float"
        },
        {
         "name": "CH%",
         "rawType": "float64",
         "type": "float"
        },
        {
         "name": "CHv",
         "rawType": "float64",
         "type": "float"
        },
        {
         "name": "SF%",
         "rawType": "float64",
         "type": "float"
        },
        {
         "name": "SFv",
         "rawType": "float64",
         "type": "float"
        },
        {
         "name": "KN%",
         "rawType": "float64",
         "type": "float"
        },
        {
         "name": "KNv",
         "rawType": "float64",
         "type": "float"
        },
        {
         "name": "XX%",
         "rawType": "float64",
         "type": "float"
        },
        {
         "name": "PO%",
         "rawType": "float64",
         "type": "float"
        },
        {
         "name": "wFB",
         "rawType": "float64",
         "type": "float"
        },
        {
         "name": "wSL",
         "rawType": "float64",
         "type": "float"
        },
        {
         "name": "wCT",
         "rawType": "float64",
         "type": "float"
        },
        {
         "name": "wCB",
         "rawType": "float64",
         "type": "float"
        },
        {
         "name": "wCH",
         "rawType": "float64",
         "type": "float"
        },
        {
         "name": "wSF",
         "rawType": "float64",
         "type": "float"
        },
        {
         "name": "wKN",
         "rawType": "float64",
         "type": "float"
        },
        {
         "name": "wFB/C",
         "rawType": "float64",
         "type": "float"
        },
        {
         "name": "wSL/C",
         "rawType": "float64",
         "type": "float"
        },
        {
         "name": "wCT/C",
         "rawType": "float64",
         "type": "float"
        },
        {
         "name": "wCB/C",
         "rawType": "float64",
         "type": "float"
        },
        {
         "name": "wCH/C",
         "rawType": "float64",
         "type": "float"
        },
        {
         "name": "wSF/C",
         "rawType": "float64",
         "type": "float"
        },
        {
         "name": "wKN/C",
         "rawType": "float64",
         "type": "float"
        },
        {
         "name": "O-Swing%",
         "rawType": "float64",
         "type": "float"
        },
        {
         "name": "Z-Swing%",
         "rawType": "float64",
         "type": "float"
        },
        {
         "name": "Swing%",
         "rawType": "float64",
         "type": "float"
        },
        {
         "name": "O-Contact%",
         "rawType": "float64",
         "type": "float"
        },
        {
         "name": "Z-Contact%",
         "rawType": "float64",
         "type": "float"
        },
        {
         "name": "Contact%",
         "rawType": "float64",
         "type": "float"
        },
        {
         "name": "Zone%",
         "rawType": "float64",
         "type": "float"
        },
        {
         "name": "F-Strike%",
         "rawType": "float64",
         "type": "float"
        },
        {
         "name": "SwStr%",
         "rawType": "float64",
         "type": "float"
        },
        {
         "name": "BsR",
         "rawType": "float64",
         "type": "float"
        },
        {
         "name": "FA% (sc)",
         "rawType": "float64",
         "type": "float"
        },
        {
         "name": "FT% (sc)",
         "rawType": "float64",
         "type": "float"
        },
        {
         "name": "FC% (sc)",
         "rawType": "float64",
         "type": "float"
        },
        {
         "name": "FS% (sc)",
         "rawType": "float64",
         "type": "float"
        },
        {
         "name": "FO% (sc)",
         "rawType": "float64",
         "type": "float"
        },
        {
         "name": "SI% (sc)",
         "rawType": "float64",
         "type": "float"
        },
        {
         "name": "SL% (sc)",
         "rawType": "float64",
         "type": "float"
        },
        {
         "name": "CU% (sc)",
         "rawType": "float64",
         "type": "float"
        },
        {
         "name": "KC% (sc)",
         "rawType": "float64",
         "type": "float"
        },
        {
         "name": "EP% (sc)",
         "rawType": "float64",
         "type": "float"
        },
        {
         "name": "CH% (sc)",
         "rawType": "float64",
         "type": "float"
        },
        {
         "name": "SC% (sc)",
         "rawType": "float64",
         "type": "float"
        },
        {
         "name": "KN% (sc)",
         "rawType": "float64",
         "type": "float"
        },
        {
         "name": "UN% (sc)",
         "rawType": "float64",
         "type": "float"
        },
        {
         "name": "vFA (sc)",
         "rawType": "float64",
         "type": "float"
        },
        {
         "name": "vFT (sc)",
         "rawType": "float64",
         "type": "float"
        },
        {
         "name": "vFC (sc)",
         "rawType": "float64",
         "type": "float"
        },
        {
         "name": "vFS (sc)",
         "rawType": "float64",
         "type": "float"
        },
        {
         "name": "vFO (sc)",
         "rawType": "float64",
         "type": "float"
        },
        {
         "name": "vSI (sc)",
         "rawType": "float64",
         "type": "float"
        },
        {
         "name": "vSL (sc)",
         "rawType": "float64",
         "type": "float"
        },
        {
         "name": "vCU (sc)",
         "rawType": "float64",
         "type": "float"
        },
        {
         "name": "vKC (sc)",
         "rawType": "float64",
         "type": "float"
        },
        {
         "name": "vEP (sc)",
         "rawType": "float64",
         "type": "float"
        },
        {
         "name": "vCH (sc)",
         "rawType": "float64",
         "type": "float"
        },
        {
         "name": "vSC (sc)",
         "rawType": "float64",
         "type": "float"
        },
        {
         "name": "vKN (sc)",
         "rawType": "float64",
         "type": "float"
        },
        {
         "name": "FA-X (sc)",
         "rawType": "float64",
         "type": "float"
        },
        {
         "name": "FT-X (sc)",
         "rawType": "float64",
         "type": "float"
        },
        {
         "name": "FC-X (sc)",
         "rawType": "float64",
         "type": "float"
        },
        {
         "name": "FS-X (sc)",
         "rawType": "float64",
         "type": "float"
        },
        {
         "name": "FO-X (sc)",
         "rawType": "float64",
         "type": "float"
        },
        {
         "name": "SI-X (sc)",
         "rawType": "float64",
         "type": "float"
        },
        {
         "name": "SL-X (sc)",
         "rawType": "float64",
         "type": "float"
        },
        {
         "name": "CU-X (sc)",
         "rawType": "float64",
         "type": "float"
        },
        {
         "name": "KC-X (sc)",
         "rawType": "float64",
         "type": "float"
        },
        {
         "name": "EP-X (sc)",
         "rawType": "float64",
         "type": "float"
        },
        {
         "name": "CH-X (sc)",
         "rawType": "float64",
         "type": "float"
        },
        {
         "name": "SC-X (sc)",
         "rawType": "float64",
         "type": "float"
        },
        {
         "name": "KN-X (sc)",
         "rawType": "float64",
         "type": "float"
        },
        {
         "name": "FA-Z (sc)",
         "rawType": "float64",
         "type": "float"
        },
        {
         "name": "FT-Z (sc)",
         "rawType": "float64",
         "type": "float"
        },
        {
         "name": "FC-Z (sc)",
         "rawType": "float64",
         "type": "float"
        },
        {
         "name": "FS-Z (sc)",
         "rawType": "float64",
         "type": "float"
        },
        {
         "name": "FO-Z (sc)",
         "rawType": "float64",
         "type": "float"
        },
        {
         "name": "SI-Z (sc)",
         "rawType": "float64",
         "type": "float"
        },
        {
         "name": "SL-Z (sc)",
         "rawType": "float64",
         "type": "float"
        },
        {
         "name": "CU-Z (sc)",
         "rawType": "float64",
         "type": "float"
        },
        {
         "name": "KC-Z (sc)",
         "rawType": "float64",
         "type": "float"
        },
        {
         "name": "EP-Z (sc)",
         "rawType": "float64",
         "type": "float"
        },
        {
         "name": "CH-Z (sc)",
         "rawType": "float64",
         "type": "float"
        },
        {
         "name": "SC-Z (sc)",
         "rawType": "float64",
         "type": "float"
        },
        {
         "name": "KN-Z (sc)",
         "rawType": "float64",
         "type": "float"
        },
        {
         "name": "wFA (sc)",
         "rawType": "float64",
         "type": "float"
        },
        {
         "name": "wFT (sc)",
         "rawType": "float64",
         "type": "float"
        },
        {
         "name": "wFC (sc)",
         "rawType": "float64",
         "type": "float"
        },
        {
         "name": "wFS (sc)",
         "rawType": "float64",
         "type": "float"
        },
        {
         "name": "wFO (sc)",
         "rawType": "float64",
         "type": "float"
        },
        {
         "name": "wSI (sc)",
         "rawType": "float64",
         "type": "float"
        },
        {
         "name": "wSL (sc)",
         "rawType": "float64",
         "type": "float"
        },
        {
         "name": "wCU (sc)",
         "rawType": "float64",
         "type": "float"
        },
        {
         "name": "wKC (sc)",
         "rawType": "float64",
         "type": "float"
        },
        {
         "name": "wEP (sc)",
         "rawType": "float64",
         "type": "float"
        },
        {
         "name": "wCH (sc)",
         "rawType": "float64",
         "type": "float"
        },
        {
         "name": "wSC (sc)",
         "rawType": "float64",
         "type": "float"
        },
        {
         "name": "wKN (sc)",
         "rawType": "float64",
         "type": "float"
        },
        {
         "name": "wFA/C (sc)",
         "rawType": "float64",
         "type": "float"
        },
        {
         "name": "wFT/C (sc)",
         "rawType": "float64",
         "type": "float"
        },
        {
         "name": "wFC/C (sc)",
         "rawType": "float64",
         "type": "float"
        },
        {
         "name": "wFS/C (sc)",
         "rawType": "float64",
         "type": "float"
        },
        {
         "name": "wFO/C (sc)",
         "rawType": "float64",
         "type": "float"
        },
        {
         "name": "wSI/C (sc)",
         "rawType": "float64",
         "type": "float"
        },
        {
         "name": "wSL/C (sc)",
         "rawType": "float64",
         "type": "float"
        },
        {
         "name": "wCU/C (sc)",
         "rawType": "float64",
         "type": "float"
        },
        {
         "name": "wKC/C (sc)",
         "rawType": "float64",
         "type": "float"
        },
        {
         "name": "wEP/C (sc)",
         "rawType": "float64",
         "type": "float"
        },
        {
         "name": "wCH/C (sc)",
         "rawType": "float64",
         "type": "float"
        },
        {
         "name": "wSC/C (sc)",
         "rawType": "float64",
         "type": "float"
        },
        {
         "name": "wKN/C (sc)",
         "rawType": "float64",
         "type": "float"
        },
        {
         "name": "O-Swing% (sc)",
         "rawType": "float64",
         "type": "float"
        },
        {
         "name": "Z-Swing% (sc)",
         "rawType": "float64",
         "type": "float"
        },
        {
         "name": "Swing% (sc)",
         "rawType": "float64",
         "type": "float"
        },
        {
         "name": "O-Contact% (sc)",
         "rawType": "float64",
         "type": "float"
        },
        {
         "name": "Z-Contact% (sc)",
         "rawType": "float64",
         "type": "float"
        },
        {
         "name": "Contact% (sc)",
         "rawType": "float64",
         "type": "float"
        },
        {
         "name": "Zone% (sc)",
         "rawType": "float64",
         "type": "float"
        },
        {
         "name": "Pace",
         "rawType": "float64",
         "type": "float"
        },
        {
         "name": "Def",
         "rawType": "float64",
         "type": "float"
        },
        {
         "name": "wSB",
         "rawType": "float64",
         "type": "float"
        },
        {
         "name": "UBR",
         "rawType": "float64",
         "type": "float"
        },
        {
         "name": "Age Rng",
         "rawType": "object",
         "type": "string"
        },
        {
         "name": "Off",
         "rawType": "float64",
         "type": "float"
        },
        {
         "name": "Lg",
         "rawType": "float64",
         "type": "float"
        },
        {
         "name": "wGDP",
         "rawType": "float64",
         "type": "float"
        },
        {
         "name": "Pull%",
         "rawType": "float64",
         "type": "float"
        },
        {
         "name": "Cent%",
         "rawType": "float64",
         "type": "float"
        },
        {
         "name": "Oppo%",
         "rawType": "float64",
         "type": "float"
        },
        {
         "name": "Soft%",
         "rawType": "float64",
         "type": "float"
        },
        {
         "name": "Med%",
         "rawType": "float64",
         "type": "float"
        },
        {
         "name": "Hard%",
         "rawType": "float64",
         "type": "float"
        },
        {
         "name": "TTO%",
         "rawType": "float64",
         "type": "float"
        },
        {
         "name": "CH% (pi)",
         "rawType": "float64",
         "type": "float"
        },
        {
         "name": "CS% (pi)",
         "rawType": "float64",
         "type": "float"
        },
        {
         "name": "CU% (pi)",
         "rawType": "float64",
         "type": "float"
        },
        {
         "name": "FA% (pi)",
         "rawType": "float64",
         "type": "float"
        },
        {
         "name": "FC% (pi)",
         "rawType": "float64",
         "type": "float"
        },
        {
         "name": "FS% (pi)",
         "rawType": "float64",
         "type": "float"
        },
        {
         "name": "KN% (pi)",
         "rawType": "float64",
         "type": "float"
        },
        {
         "name": "SB% (pi)",
         "rawType": "float64",
         "type": "float"
        },
        {
         "name": "SI% (pi)",
         "rawType": "float64",
         "type": "float"
        },
        {
         "name": "SL% (pi)",
         "rawType": "float64",
         "type": "float"
        },
        {
         "name": "XX% (pi)",
         "rawType": "float64",
         "type": "float"
        },
        {
         "name": "vCH (pi)",
         "rawType": "float64",
         "type": "float"
        },
        {
         "name": "vCS (pi)",
         "rawType": "float64",
         "type": "float"
        },
        {
         "name": "vCU (pi)",
         "rawType": "float64",
         "type": "float"
        },
        {
         "name": "vFA (pi)",
         "rawType": "float64",
         "type": "float"
        },
        {
         "name": "vFC (pi)",
         "rawType": "float64",
         "type": "float"
        },
        {
         "name": "vFS (pi)",
         "rawType": "float64",
         "type": "float"
        },
        {
         "name": "vKN (pi)",
         "rawType": "float64",
         "type": "float"
        },
        {
         "name": "vSB (pi)",
         "rawType": "float64",
         "type": "float"
        },
        {
         "name": "vSI (pi)",
         "rawType": "float64",
         "type": "float"
        },
        {
         "name": "vSL (pi)",
         "rawType": "float64",
         "type": "float"
        },
        {
         "name": "vXX (pi)",
         "rawType": "float64",
         "type": "float"
        },
        {
         "name": "CH-X (pi)",
         "rawType": "float64",
         "type": "float"
        },
        {
         "name": "CS-X (pi)",
         "rawType": "float64",
         "type": "float"
        },
        {
         "name": "CU-X (pi)",
         "rawType": "float64",
         "type": "float"
        },
        {
         "name": "FA-X (pi)",
         "rawType": "float64",
         "type": "float"
        },
        {
         "name": "FC-X (pi)",
         "rawType": "float64",
         "type": "float"
        },
        {
         "name": "FS-X (pi)",
         "rawType": "float64",
         "type": "float"
        },
        {
         "name": "KN-X (pi)",
         "rawType": "float64",
         "type": "float"
        },
        {
         "name": "SB-X (pi)",
         "rawType": "float64",
         "type": "float"
        },
        {
         "name": "SI-X (pi)",
         "rawType": "float64",
         "type": "float"
        },
        {
         "name": "SL-X (pi)",
         "rawType": "float64",
         "type": "float"
        },
        {
         "name": "XX-X (pi)",
         "rawType": "float64",
         "type": "float"
        },
        {
         "name": "CH-Z (pi)",
         "rawType": "float64",
         "type": "float"
        },
        {
         "name": "CS-Z (pi)",
         "rawType": "float64",
         "type": "float"
        },
        {
         "name": "CU-Z (pi)",
         "rawType": "float64",
         "type": "float"
        },
        {
         "name": "FA-Z (pi)",
         "rawType": "float64",
         "type": "float"
        },
        {
         "name": "FC-Z (pi)",
         "rawType": "float64",
         "type": "float"
        },
        {
         "name": "FS-Z (pi)",
         "rawType": "float64",
         "type": "float"
        },
        {
         "name": "KN-Z (pi)",
         "rawType": "float64",
         "type": "float"
        },
        {
         "name": "SB-Z (pi)",
         "rawType": "float64",
         "type": "float"
        },
        {
         "name": "SI-Z (pi)",
         "rawType": "float64",
         "type": "float"
        },
        {
         "name": "SL-Z (pi)",
         "rawType": "float64",
         "type": "float"
        },
        {
         "name": "XX-Z (pi)",
         "rawType": "float64",
         "type": "float"
        },
        {
         "name": "wCH (pi)",
         "rawType": "float64",
         "type": "float"
        },
        {
         "name": "wCS (pi)",
         "rawType": "float64",
         "type": "float"
        },
        {
         "name": "wCU (pi)",
         "rawType": "float64",
         "type": "float"
        },
        {
         "name": "wFA (pi)",
         "rawType": "float64",
         "type": "float"
        },
        {
         "name": "wFC (pi)",
         "rawType": "float64",
         "type": "float"
        },
        {
         "name": "wFS (pi)",
         "rawType": "float64",
         "type": "float"
        },
        {
         "name": "wKN (pi)",
         "rawType": "float64",
         "type": "float"
        },
        {
         "name": "wSB (pi)",
         "rawType": "float64",
         "type": "float"
        },
        {
         "name": "wSI (pi)",
         "rawType": "float64",
         "type": "float"
        },
        {
         "name": "wSL (pi)",
         "rawType": "float64",
         "type": "float"
        },
        {
         "name": "wXX (pi)",
         "rawType": "float64",
         "type": "float"
        },
        {
         "name": "wCH/C (pi)",
         "rawType": "float64",
         "type": "float"
        },
        {
         "name": "wCS/C (pi)",
         "rawType": "float64",
         "type": "float"
        },
        {
         "name": "wCU/C (pi)",
         "rawType": "float64",
         "type": "float"
        },
        {
         "name": "wFA/C (pi)",
         "rawType": "float64",
         "type": "float"
        },
        {
         "name": "wFC/C (pi)",
         "rawType": "float64",
         "type": "float"
        },
        {
         "name": "wFS/C (pi)",
         "rawType": "float64",
         "type": "float"
        },
        {
         "name": "wKN/C (pi)",
         "rawType": "float64",
         "type": "float"
        },
        {
         "name": "wSB/C (pi)",
         "rawType": "float64",
         "type": "float"
        },
        {
         "name": "wSI/C (pi)",
         "rawType": "float64",
         "type": "float"
        },
        {
         "name": "wSL/C (pi)",
         "rawType": "float64",
         "type": "float"
        },
        {
         "name": "wXX/C (pi)",
         "rawType": "float64",
         "type": "float"
        },
        {
         "name": "O-Swing% (pi)",
         "rawType": "float64",
         "type": "float"
        },
        {
         "name": "Z-Swing% (pi)",
         "rawType": "float64",
         "type": "float"
        },
        {
         "name": "Swing% (pi)",
         "rawType": "float64",
         "type": "float"
        },
        {
         "name": "O-Contact% (pi)",
         "rawType": "float64",
         "type": "float"
        },
        {
         "name": "Z-Contact% (pi)",
         "rawType": "float64",
         "type": "float"
        },
        {
         "name": "Contact% (pi)",
         "rawType": "float64",
         "type": "float"
        },
        {
         "name": "Zone% (pi)",
         "rawType": "float64",
         "type": "float"
        },
        {
         "name": "Pace (pi)",
         "rawType": "float64",
         "type": "float"
        },
        {
         "name": "FRM",
         "rawType": "float64",
         "type": "float"
        },
        {
         "name": "AVG+",
         "rawType": "int64",
         "type": "integer"
        },
        {
         "name": "BB%+",
         "rawType": "int64",
         "type": "integer"
        },
        {
         "name": "K%+",
         "rawType": "int64",
         "type": "integer"
        },
        {
         "name": "OBP+",
         "rawType": "int64",
         "type": "integer"
        },
        {
         "name": "SLG+",
         "rawType": "int64",
         "type": "integer"
        },
        {
         "name": "ISO+",
         "rawType": "int64",
         "type": "integer"
        },
        {
         "name": "BABIP+",
         "rawType": "int64",
         "type": "integer"
        },
        {
         "name": "LD+%",
         "rawType": "float64",
         "type": "float"
        },
        {
         "name": "GB%+",
         "rawType": "int64",
         "type": "integer"
        },
        {
         "name": "FB%+",
         "rawType": "int64",
         "type": "integer"
        },
        {
         "name": "HR/FB%+",
         "rawType": "int64",
         "type": "integer"
        },
        {
         "name": "Pull%+",
         "rawType": "int64",
         "type": "integer"
        },
        {
         "name": "Cent%+",
         "rawType": "int64",
         "type": "integer"
        },
        {
         "name": "Oppo%+",
         "rawType": "int64",
         "type": "integer"
        },
        {
         "name": "Soft%+",
         "rawType": "int64",
         "type": "integer"
        },
        {
         "name": "Med%+",
         "rawType": "int64",
         "type": "integer"
        },
        {
         "name": "Hard%+",
         "rawType": "int64",
         "type": "integer"
        },
        {
         "name": "EV",
         "rawType": "float64",
         "type": "float"
        },
        {
         "name": "LA",
         "rawType": "float64",
         "type": "float"
        },
        {
         "name": "Barrels",
         "rawType": "int64",
         "type": "integer"
        },
        {
         "name": "Barrel%",
         "rawType": "float64",
         "type": "float"
        },
        {
         "name": "maxEV",
         "rawType": "float64",
         "type": "float"
        },
        {
         "name": "HardHit",
         "rawType": "int64",
         "type": "integer"
        },
        {
         "name": "HardHit%",
         "rawType": "float64",
         "type": "float"
        },
        {
         "name": "Events",
         "rawType": "int64",
         "type": "integer"
        },
        {
         "name": "CStr%",
         "rawType": "float64",
         "type": "float"
        },
        {
         "name": "CSW%",
         "rawType": "float64",
         "type": "float"
        },
        {
         "name": "xBA",
         "rawType": "float64",
         "type": "float"
        },
        {
         "name": "xSLG",
         "rawType": "float64",
         "type": "float"
        },
        {
         "name": "xwOBA",
         "rawType": "float64",
         "type": "float"
        },
        {
         "name": "L-WAR",
         "rawType": "float64",
         "type": "float"
        },
        {
         "name": "MVP",
         "rawType": "int64",
         "type": "integer"
        }
       ],
       "ref": "d8637ba6-f6f8-4716-b64f-54c8b5fad963",
       "rows": [
        [
         "0",
         "15640",
         "2024",
         "Aaron Judge",
         "NYY",
         "32",
         "158",
         "559",
         "704",
         "180",
         "85",
         "36",
         "1",
         "58",
         "122",
         "144",
         "133",
         "20",
         "171",
         "9",
         "2",
         "0",
         "22",
         "10",
         "0",
         "0.322",
         "119",
         "180",
         "91",
         "10",
         "2887",
         "1252",
         "1635",
         "10",
         "0",
         "0",
         "0.18899999999999997",
         "0.243",
         "0.78",
         "0.458",
         "0.701",
         "1.159",
         "0.379",
         "0.367",
         "0.0066",
         "0.233",
         "0.305",
         "0.462",
         "0.055999999999999994",
         "0.322",
         "0.084",
         "0.0",
         "0.476",
         "93.8",
         "176",
         "96.5",
         "-6.1",
         "21.3",
         "-3.4",
         "109.8",
         "11.3",
         "$90.7",
         "3.9",
         "220",
         "6.17",
         "-9.35",
         "15.52",
         "96.76",
         "10.1",
         "0.92",
         null,
         "0",
         "9.47",
         "-2.77",
         "0.43799999999999994",
         "94.6",
         "0.267",
         "84.8",
         "0.091",
         "89.5",
         "0.067",
         "80.7",
         "0.106",
         "85.6",
         "0.031",
         "86.6",
         null,
         null,
         "0.025",
         null,
         "48.4",
         "18.8",
         "6.2",
         "1.3",
         "5.2",
         "5.9",
         null,
         "3.83",
         "2.45",
         "2.34",
         "0.69",
         "1.7",
         "6.58",
         null,
         "0.213",
         "0.7190000000000001",
         "0.42",
         "0.489",
         "0.807",
         "0.7120000000000001",
         "0.41",
         "0.518",
         "0.121",
         "-0.5",
         "0.268",
         null,
         "0.08800000000000001",
         "0.031",
         null,
         "0.16899999999999998",
         "0.275",
         "0.055999999999999994",
         "0.008",
         null,
         "0.105",
         null,
         null,
         null,
         "94.8",
         null,
         "89.8",
         "86.6",
         null,
         "94.2",
         "84.8",
         "80.0",
         "81.3",
         null,
         "85.6",
         null,
         null,
         "-1.8",
         null,
         "1.0",
         "-5.9",
         null,
         "-4.8",
         "3.1",
         "3.2",
         "0.7",
         null,
         "0.8",
         null,
         null,
         "9.5",
         null,
         "5.1",
         "2.2",
         null,
         "4.5",
         "1.0",
         "-5.7",
         "-5.8",
         null,
         "3.3",
         null,
         null,
         "27.7",
         null,
         "4.0",
         "5.8",
         null,
         "19.1",
         "21.2",
         "0.8",
         "0.9",
         null,
         "5.6",
         null,
         null,
         "3.59",
         null,
         "1.57",
         "6.49",
         null,
         "3.91",
         "2.67",
         "0.5",
         "3.92",
         null,
         "1.84",
         null,
         null,
         "0.177",
         "0.669",
         "0.42",
         "0.377",
         "0.8029999999999999",
         "0.713",
         "0.495",
         "19.0",
         "-9.6",
         "0.4",
         "2.3",
         "32 - 32",
         "96.0",
         "2.1",
         "-1.0",
         "0.4",
         "0.349",
         "0.251",
         "0.07200000000000001",
         "0.451",
         "0.47700000000000004",
         "0.514",
         "0.10800000000000001",
         null,
         "0.057",
         "0.267",
         "0.09300000000000001",
         "0.027999999999999997",
         null,
         null,
         "0.168",
         "0.28",
         null,
         "85.7",
         null,
         "79.9",
         "94.9",
         "89.9",
         "86.5",
         null,
         null,
         "94.2",
         "84.7",
         null,
         "0.5",
         null,
         "2.6",
         "-1.6",
         "1.2",
         "-5.3",
         null,
         null,
         "-4.6",
         "3.6",
         null,
         "1.7",
         null,
         "-7.8",
         "8.5",
         "3.8",
         "0.9",
         null,
         null,
         "3.3",
         "-0.5",
         null,
         "5.6",
         null,
         "0.5",
         "27.4",
         "4.4",
         "5.7",
         null,
         null,
         "19.3",
         "22.2",
         null,
         "1.81",
         null,
         "0.28",
         "3.56",
         "1.65",
         "7.12",
         null,
         null,
         "3.99",
         "2.76",
         null,
         "0.17300000000000001",
         "0.67",
         "0.42",
         "0.376",
         "0.8009999999999999",
         "0.713",
         "0.49700000000000005",
         "19.0",
         null,
         "134",
         "233",
         "108",
         "148",
         "178",
         "245",
         "129",
         "1.2",
         "74",
         "118",
         "284",
         "98",
         "99",
         "104",
         "44",
         "85",
         "154",
         "96.2",
         "18.9",
         "105",
         "0.26899999999999996",
         "117.5",
         "239",
         "0.611",
         "391",
         "0.146",
         "0.267",
         "0.31",
         "0.724",
         "0.48",
         "11.7",
         "1"
        ],
        [
         "1",
         "15640",
         "2022",
         "Aaron Judge",
         "NYY",
         "30",
         "157",
         "570",
         "696",
         "177",
         "87",
         "28",
         "0",
         "62",
         "133",
         "131",
         "111",
         "19",
         "175",
         "6",
         "5",
         "0",
         "14",
         "16",
         "3",
         "0.311",
         "149",
         "174",
         "77",
         "8",
         "2906",
         "1176",
         "1730",
         "11",
         "0",
         "0",
         "0.159",
         "0.251",
         "0.63",
         "0.425",
         "0.686",
         "1.111",
         "0.375",
         "0.34",
         "0.0086",
         "0.193",
         "0.373",
         "0.435",
         "0.046",
         "0.35600000000000004",
         "0.07400000000000001",
         "0.0",
         "0.458",
         "82.1",
         "162",
         "83.1",
         "3.6",
         "20.8",
         "-4.1",
         "105.6",
         "11.1",
         "$88.7",
         "4.0",
         "206",
         "7.74",
         "-10.71",
         "18.44",
         "82.07",
         "8.81",
         "1.08",
         "2.54",
         "4",
         "8.6",
         "-1.43",
         "0.43700000000000006",
         "94.1",
         "0.258",
         "84.6",
         "0.07200000000000001",
         "88.1",
         "0.077",
         "80.6",
         "0.124",
         "85.1",
         "0.032",
         "88.2",
         null,
         null,
         "0.023",
         null,
         "43.0",
         "24.2",
         "1.3",
         "5.2",
         "5.6",
         "-1.1",
         null,
         "3.38",
         "3.24",
         "0.63",
         "2.31",
         "1.54",
         "-1.2",
         null,
         "0.268",
         "0.6759999999999999",
         "0.425",
         "0.517",
         "0.852",
         "0.722",
         "0.385",
         "0.579",
         "0.11800000000000001",
         "1.0",
         "0.276",
         null,
         "0.079",
         "0.024",
         null,
         "0.159",
         "0.248",
         "0.066",
         "0.013999999999999999",
         "0.001",
         "0.134",
         null,
         null,
         null,
         "94.4",
         null,
         "87.9",
         "88.2",
         null,
         "93.7",
         "84.8",
         "79.7",
         "80.9",
         "51.6",
         "85.2",
         null,
         null,
         "-2.3",
         null,
         "1.3",
         "-6.8",
         null,
         "-6.4",
         "2.6",
         "2.5",
         "3.5",
         "-4.3",
         "0.2",
         null,
         null,
         "9.8",
         null,
         "4.5",
         "2.4",
         null,
         "5.0",
         "1.2",
         "-4.8",
         "-6.9",
         "7.2",
         "4.4",
         null,
         null,
         "26.1",
         null,
         "2.5",
         "-0.9",
         null,
         "15.4",
         "19.0",
         "6.5",
         "1.8",
         "0.9",
         "5.2",
         null,
         null,
         "3.26",
         null,
         "1.07",
         "-1.25",
         null,
         "3.34",
         "2.64",
         "3.42",
         "4.36",
         "45.44",
         "1.33",
         null,
         null,
         "0.23199999999999998",
         "0.649",
         "0.42700000000000005",
         "0.45",
         "0.8320000000000001",
         "0.722",
         "0.46799999999999997",
         "24.5",
         "-0.6",
         "1.2",
         "0.4",
         "30 - 30",
         "84.2",
         "1.3",
         "0.5",
         "0.475",
         "0.318",
         "0.20800000000000002",
         "0.075",
         "0.445",
         "0.48",
         "0.5",
         "0.133",
         null,
         "0.059000000000000004",
         "0.27699999999999997",
         "0.065",
         "0.024",
         null,
         null,
         "0.159",
         "0.28",
         "0.002",
         "85.1",
         null,
         "79.8",
         "94.3",
         "87.9",
         "87.8",
         null,
         null,
         "93.8",
         "84.5",
         "85.3",
         "0.2",
         null,
         "2.2",
         "-1.9",
         "1.5",
         "-6.4",
         null,
         null,
         "-6.1",
         "3.3",
         "1.1",
         "3.1",
         null,
         "-7.7",
         "8.8",
         "3.4",
         "1.3",
         null,
         null,
         "3.9",
         "0.2",
         "0.3",
         "6.5",
         null,
         "5.9",
         "24.6",
         "0.1",
         "-1.0",
         null,
         null,
         "15.4",
         "24.3",
         "-0.5",
         "1.68",
         null,
         "3.43",
         "3.05",
         "0.07",
         "-1.42",
         null,
         null,
         "3.33",
         "2.98",
         "-8.22",
         "0.22399999999999998",
         "0.654",
         "0.42700000000000005",
         "0.452",
         "0.826",
         "0.722",
         "0.47100000000000003",
         "24.5",
         null,
         "128",
         "200",
         "113",
         "137",
         "175",
         "251",
         "117",
         "0.97",
         "87",
         "116",
         "324",
         "118",
         "91",
         "84",
         "46",
         "83",
         "159",
         "95.8",
         "14.9",
         "106",
         "0.262",
         "118.4",
         "247",
         "0.611",
         "404",
         "0.16899999999999998",
         "0.287",
         "0.305",
         "0.706",
         "0.463",
         "11.4",
         "1"
        ],
        [
         "2",
         "25764",
         "2024",
         "Bobby Witt Jr.",
         "KCR",
         "24",
         "161",
         "636",
         "709",
         "211",
         "123",
         "45",
         "11",
         "32",
         "125",
         "109",
         "57",
         "9",
         "106",
         "8",
         "8",
         "0",
         "4",
         "31",
         "12",
         "0.332",
         "199",
         "239",
         "100",
         "26",
         "2602",
         "913",
         "1689",
         "21",
         "0",
         "0",
         "0.08",
         "0.15",
         "0.54",
         "0.389",
         "0.588",
         "0.977",
         "0.256",
         "0.354",
         "0.0083",
         "0.18600000000000003",
         "0.37",
         "0.444",
         "0.109",
         "0.134",
         "0.106",
         "0.0",
         "0.41",
         "56.8",
         "140",
         "56.1",
         "10.4",
         "21.4",
         "7.1",
         "101.6",
         "10.5",
         "$83.9",
         "7.2",
         "169",
         "4.99",
         "-10.37",
         "15.35",
         "63.74",
         "6.32",
         "0.94",
         null,
         "0",
         "5.7",
         "-0.4",
         "0.442",
         "94.4",
         "0.27699999999999997",
         "85.1",
         "0.09",
         "89.7",
         "0.08",
         "80.7",
         "0.078",
         "84.8",
         "0.033",
         "86.4",
         null,
         null,
         "0.009000000000000001",
         null,
         "28.1",
         "20.3",
         "4.1",
         "1.3",
         "-0.5",
         "8.2",
         null,
         "2.45",
         "2.82",
         "1.77",
         "0.62",
         "-0.26",
         "9.57",
         null,
         "0.354",
         "0.748",
         "0.512",
         "0.7",
         "0.884",
         "0.8079999999999999",
         "0.4",
         "0.615",
         "0.098",
         "4.5",
         "0.289",
         null,
         "0.086",
         "0.031",
         null,
         "0.152",
         "0.28300000000000003",
         "0.066",
         "0.015",
         null,
         "0.078",
         null,
         null,
         null,
         "94.5",
         null,
         "90.1",
         "86.5",
         null,
         "93.9",
         "85.1",
         "79.9",
         "83.9",
         null,
         "84.5",
         null,
         null,
         "-2.0",
         null,
         "0.8",
         "-5.2",
         null,
         "-7.1",
         "2.8",
         "2.4",
         "0.5",
         null,
         "-1.6",
         null,
         null,
         "9.2",
         null,
         "5.1",
         "2.5",
         null,
         "4.9",
         "1.1",
         "-4.8",
         "-3.3",
         null,
         "3.8",
         null,
         null,
         "14.1",
         null,
         "3.9",
         "6.7",
         null,
         "13.6",
         "18.6",
         "3.4",
         "-0.5",
         null,
         "1.3",
         null,
         null,
         "1.87",
         null,
         "1.75",
         "8.33",
         null,
         "3.44",
         "2.52",
         "1.96",
         "-1.31",
         null,
         "0.66",
         null,
         null,
         "0.308",
         "0.718",
         "0.512",
         "0.639",
         "0.88",
         "0.807",
         "0.496",
         "19.1",
         "17.5",
         "-0.1",
         "3.0",
         "24 - 24",
         "60.6",
         "2.1",
         "2.4",
         "0.35100000000000003",
         "0.385",
         "0.264",
         "0.147",
         "0.5",
         "0.353",
         "0.275",
         "0.078",
         null,
         "0.068",
         "0.282",
         "0.092",
         "0.03",
         null,
         null,
         "0.154",
         "0.295",
         null,
         "84.7",
         null,
         "80.8",
         "94.7",
         "90.6",
         "86.4",
         null,
         null,
         "94.0",
         "85.0",
         null,
         "-1.5",
         null,
         "2.6",
         "-1.8",
         "1.1",
         "-4.8",
         null,
         null,
         "-6.5",
         "3.4",
         null,
         "2.4",
         null,
         "-6.4",
         "8.4",
         "4.1",
         "1.3",
         null,
         null,
         "3.7",
         "-0.3",
         null,
         "2.5",
         null,
         "1.5",
         "9.4",
         "3.5",
         "6.0",
         null,
         null,
         "18.1",
         "20.2",
         null,
         "1.25",
         null,
         "0.85",
         "1.29",
         "1.45",
         "7.64",
         null,
         null,
         "4.54",
         "2.63",
         null,
         "0.309",
         "0.711",
         "0.511",
         "0.647",
         "0.875",
         "0.8059999999999999",
         "0.503",
         "19.1",
         null,
         "138",
         "99",
         "66",
         "126",
         "149",
         "166",
         "124",
         "0.95",
         "89",
         "114",
         "118",
         "86",
         "110",
         "110",
         "91",
         "95",
         "114",
         "92.7",
         "15.1",
         "77",
         "0.14300000000000002",
         "116.9",
         "260",
         "0.483",
         "538",
         "0.138",
         "0.23600000000000002",
         "0.315",
         "0.576",
         "0.407",
         "10.5",
         "0"
        ],
        [
         "3",
         "13611",
         "2018",
         "Mookie Betts",
         "BOS",
         "25",
         "136",
         "520",
         "614",
         "180",
         "96",
         "47",
         "5",
         "32",
         "129",
         "80",
         "81",
         "8",
         "91",
         "8",
         "5",
         "0",
         "5",
         "30",
         "6",
         "0.346",
         "147",
         "195",
         "92",
         "18",
         "2582",
         "1095",
         "1487",
         "14",
         "0",
         "0",
         "0.132",
         "0.14800000000000002",
         "0.89",
         "0.438",
         "0.64",
         "1.078",
         "0.294",
         "0.368",
         "0.0075",
         "0.212",
         "0.33899999999999997",
         "0.449",
         "0.092",
         "0.16399999999999998",
         "0.095",
         "0.0",
         "0.449",
         "67.2",
         "139",
         "62.4",
         "13.1",
         "18.4",
         "-5.3",
         "98.9",
         "10.2",
         "$81.5",
         "7.0",
         "185",
         "5.77",
         "-8.16",
         "13.93",
         "62.93",
         "6.11",
         "0.92",
         "3.62",
         "4",
         "6.44",
         "-0.15",
         "0.547",
         "93.2",
         "0.19899999999999998",
         "84.5",
         "0.05",
         "88.7",
         "0.073",
         "79.1",
         "0.114",
         "84.4",
         "0.017",
         "85.4",
         null,
         null,
         "0.009000000000000001",
         null,
         "40.1",
         "11.2",
         "4.2",
         "1.1",
         "11.1",
         "2.3",
         null,
         "2.84",
         "2.19",
         "3.28",
         "0.58",
         "3.79",
         "5.06",
         null,
         "0.198",
         "0.57",
         "0.35600000000000004",
         "0.706",
         "0.93",
         "0.8590000000000001",
         "0.426",
         "0.562",
         "0.05",
         "7.7",
         "0.35600000000000004",
         null,
         "0.047",
         "0.022000000000000002",
         null,
         "0.193",
         "0.2",
         "0.061",
         "0.015",
         null,
         "0.106",
         null,
         null,
         null,
         "93.5",
         null,
         "88.4",
         "85.2",
         null,
         "92.5",
         "84.6",
         "78.8",
         "80.7",
         null,
         "84.4",
         null,
         null,
         "-2.2",
         null,
         "0.4",
         "-4.1",
         null,
         "-4.2",
         "1.5",
         "3.0",
         "4.5",
         null,
         "0.3",
         null,
         null,
         "9.5",
         null,
         "4.9",
         "3.2",
         null,
         "5.7",
         "1.2",
         "-4.9",
         "-5.8",
         null,
         "4.5",
         null,
         null,
         "18.7",
         null,
         "3.1",
         "2.5",
         null,
         "20.1",
         "10.3",
         "1.1",
         "2.5",
         null,
         "10.1",
         null,
         null,
         "2.04",
         null,
         "2.58",
         "4.34",
         null,
         "4.05",
         "2.0",
         "0.69",
         "6.32",
         null,
         "3.72",
         null,
         null,
         "0.16",
         "0.544",
         "0.355",
         "0.639",
         "0.919",
         "0.857",
         "0.509",
         "21.3",
         "7.9",
         "3.1",
         "2.7",
         "25 - 25",
         "70.1",
         "2.6",
         "1.1",
         "0.47200000000000003",
         "0.348",
         "0.18",
         "0.122",
         "0.433",
         "0.445",
         "0.332",
         "0.105",
         null,
         "0.07",
         "0.366",
         "0.046",
         "0.026000000000000002",
         null,
         null,
         "0.17300000000000001",
         "0.201",
         "0.0",
         "84.6",
         null,
         "79.0",
         "93.6",
         "88.6",
         "84.6",
         null,
         null,
         "92.6",
         "84.7",
         "93.5",
         "0.4",
         null,
         "3.6",
         "-1.9",
         "0.5",
         "-3.2",
         null,
         null,
         "-4.2",
         "2.1",
         "-6.4",
         "3.1",
         null,
         "-7.2",
         "8.2",
         "4.2",
         "1.6",
         null,
         null,
         "4.4",
         "-0.2",
         "5.9",
         "10.5",
         null,
         "0.9",
         "18.2",
         "4.0",
         "4.0",
         null,
         null,
         "21.4",
         "10.5",
         "0.0",
         "3.82",
         null,
         "0.48",
         "1.91",
         "3.3",
         "5.95",
         null,
         null,
         "4.75",
         "2.0",
         "2.04",
         "0.162",
         "0.539",
         "0.355",
         "0.647",
         "0.917",
         "0.857",
         "0.512",
         "21.3",
         null,
         "139",
         "159",
         "68",
         "137",
         "154",
         "176",
         "125",
         "1.0",
         "80",
         "123",
         "129",
         "115",
         "102",
         "73",
         "69",
         "92",
         "125",
         "92.3",
         "18.5",
         "61",
         "0.141",
         "110.6",
         "218",
         "0.502",
         "434",
         "0.22",
         "0.27",
         "0.309",
         "0.607",
         "0.431",
         "10.4",
         "1"
        ],
        [
         "4",
         "10155",
         "2018",
         "Mike Trout",
         "LAA",
         "26",
         "140",
         "471",
         "608",
         "147",
         "80",
         "24",
         "4",
         "39",
         "101",
         "79",
         "122",
         "25",
         "124",
         "10",
         "4",
         "0",
         "5",
         "24",
         "2",
         "0.312",
         "110",
         "159",
         "82",
         "15",
         "2543",
         "1075",
         "1468",
         "11",
         "0",
         "0",
         "0.201",
         "0.204",
         "0.98",
         "0.46",
         "0.628",
         "1.088",
         "0.316",
         "0.346",
         "0.0069",
         "0.23399999999999999",
         "0.313",
         "0.45299999999999996",
         "0.094",
         "0.245",
         "0.1",
         "0.0",
         "0.447",
         "65.4",
         "136",
         "64.2",
         "2.5",
         "18.2",
         "0.2",
         "91.5",
         "9.4",
         "$75.3",
         "5.9",
         "188",
         "4.14",
         "-7.61",
         "11.75",
         "63.76",
         "6.7",
         "0.9",
         "2.71",
         "1",
         "6.91",
         "-2.3",
         "0.6",
         "92.9",
         "0.157",
         "84.6",
         "0.08199999999999999",
         "88.0",
         "0.086",
         "79.5",
         "0.066",
         "83.6",
         "0.009000000000000001",
         "86.4",
         null,
         null,
         "0.037000000000000005",
         null,
         "33.1",
         "8.4",
         "7.2",
         "4.4",
         "9.1",
         "0.8",
         null,
         "2.17",
         "2.11",
         "3.44",
         "2.03",
         "5.4",
         "3.55",
         null,
         "0.218",
         "0.591",
         "0.376",
         "0.69",
         "0.917",
         "0.841",
         "0.424",
         "0.581",
         "0.06",
         "3.8",
         "0.43",
         null,
         "0.081",
         "0.008",
         null,
         "0.172",
         "0.155",
         "0.06",
         "0.027999999999999997",
         "0.0",
         "0.065",
         null,
         null,
         null,
         "93.2",
         null,
         "87.9",
         "85.2",
         null,
         "92.0",
         "84.7",
         "79.0",
         "80.5",
         "69.0",
         "83.8",
         null,
         null,
         "-2.9",
         null,
         "0.3",
         "-4.5",
         null,
         "-4.8",
         "1.8",
         "2.2",
         "3.0",
         "7.6",
         "-2.2",
         null,
         null,
         "9.4",
         null,
         "5.3",
         "3.4",
         null,
         "5.6",
         "1.5",
         "-5.3",
         "-4.4",
         "-7.4",
         "4.2",
         null,
         null,
         "20.7",
         null,
         "6.5",
         "0.6",
         null,
         "11.3",
         "8.7",
         "0.6",
         "3.6",
         "0.0",
         "10.1",
         null,
         null,
         "1.89",
         null,
         "3.16",
         "3.03",
         null,
         "2.59",
         "2.21",
         "0.36",
         "5.06",
         "-3.92",
         "6.1",
         null,
         null,
         "0.17300000000000001",
         "0.5710000000000001",
         "0.375",
         "0.604",
         "0.9079999999999999",
         "0.838",
         "0.507",
         "21.4",
         "2.7",
         "3.5",
         "0.0",
         "26 - 26",
         "68.0",
         "2.6",
         "1.5",
         "0.402",
         "0.373",
         "0.225",
         "0.16",
         "0.396",
         "0.444",
         "0.469",
         "0.061",
         null,
         "0.079",
         "0.423",
         "0.08",
         "0.012",
         null,
         null,
         "0.154",
         "0.154",
         null,
         "83.8",
         null,
         "79.2",
         "93.3",
         "88.2",
         "85.3",
         null,
         null,
         "92.1",
         "84.6",
         null,
         "-1.8",
         null,
         "3.0",
         "-2.5",
         "0.2",
         "-3.4",
         null,
         null,
         "-4.7",
         "2.3",
         null,
         "2.6",
         null,
         "-7.0",
         "8.2",
         "4.5",
         "2.0",
         null,
         null,
         "4.2",
         "-0.1",
         null,
         "8.9",
         null,
         "3.5",
         "19.5",
         "6.1",
         "2.6",
         null,
         null,
         "11.1",
         "10.3",
         null,
         "5.53",
         null,
         "1.7",
         "1.75",
         "2.89",
         "8.47",
         null,
         null,
         "2.74",
         "2.53",
         null,
         "0.17300000000000001",
         "0.57",
         "0.375",
         "0.6",
         "0.9079999999999999",
         "0.838",
         "0.509",
         "21.4",
         null,
         "125",
         "242",
         "94",
         "144",
         "151",
         "190",
         "118",
         "1.1",
         "74",
         "124",
         "193",
         "98",
         "109",
         "91",
         "91",
         "84",
         "125",
         "91.2",
         "18.6",
         "58",
         "0.165",
         "118.0",
         "162",
         "0.46",
         "352",
         "0.201",
         "0.261",
         "0.294",
         "0.603",
         "0.435",
         "9.5",
         "0"
        ]
       ],
       "shape": {
        "columns": 321,
        "rows": 5
       }
      },
      "text/html": [
       "<div>\n",
       "<style scoped>\n",
       "    .dataframe tbody tr th:only-of-type {\n",
       "        vertical-align: middle;\n",
       "    }\n",
       "\n",
       "    .dataframe tbody tr th {\n",
       "        vertical-align: top;\n",
       "    }\n",
       "\n",
       "    .dataframe thead th {\n",
       "        text-align: right;\n",
       "    }\n",
       "</style>\n",
       "<table border=\"1\" class=\"dataframe\">\n",
       "  <thead>\n",
       "    <tr style=\"text-align: right;\">\n",
       "      <th></th>\n",
       "      <th>IDfg</th>\n",
       "      <th>Year</th>\n",
       "      <th>Player</th>\n",
       "      <th>Team</th>\n",
       "      <th>Age</th>\n",
       "      <th>G</th>\n",
       "      <th>AB</th>\n",
       "      <th>PA</th>\n",
       "      <th>H</th>\n",
       "      <th>1B</th>\n",
       "      <th>...</th>\n",
       "      <th>HardHit</th>\n",
       "      <th>HardHit%</th>\n",
       "      <th>Events</th>\n",
       "      <th>CStr%</th>\n",
       "      <th>CSW%</th>\n",
       "      <th>xBA</th>\n",
       "      <th>xSLG</th>\n",
       "      <th>xwOBA</th>\n",
       "      <th>L-WAR</th>\n",
       "      <th>MVP</th>\n",
       "    </tr>\n",
       "  </thead>\n",
       "  <tbody>\n",
       "    <tr>\n",
       "      <th>0</th>\n",
       "      <td>15640</td>\n",
       "      <td>2024</td>\n",
       "      <td>Aaron Judge</td>\n",
       "      <td>NYY</td>\n",
       "      <td>32</td>\n",
       "      <td>158</td>\n",
       "      <td>559</td>\n",
       "      <td>704</td>\n",
       "      <td>180</td>\n",
       "      <td>85</td>\n",
       "      <td>...</td>\n",
       "      <td>239</td>\n",
       "      <td>0.611</td>\n",
       "      <td>391</td>\n",
       "      <td>0.146</td>\n",
       "      <td>0.267</td>\n",
       "      <td>0.310</td>\n",
       "      <td>0.724</td>\n",
       "      <td>0.480</td>\n",
       "      <td>11.7</td>\n",
       "      <td>1</td>\n",
       "    </tr>\n",
       "    <tr>\n",
       "      <th>1</th>\n",
       "      <td>15640</td>\n",
       "      <td>2022</td>\n",
       "      <td>Aaron Judge</td>\n",
       "      <td>NYY</td>\n",
       "      <td>30</td>\n",
       "      <td>157</td>\n",
       "      <td>570</td>\n",
       "      <td>696</td>\n",
       "      <td>177</td>\n",
       "      <td>87</td>\n",
       "      <td>...</td>\n",
       "      <td>247</td>\n",
       "      <td>0.611</td>\n",
       "      <td>404</td>\n",
       "      <td>0.169</td>\n",
       "      <td>0.287</td>\n",
       "      <td>0.305</td>\n",
       "      <td>0.706</td>\n",
       "      <td>0.463</td>\n",
       "      <td>11.4</td>\n",
       "      <td>1</td>\n",
       "    </tr>\n",
       "    <tr>\n",
       "      <th>2</th>\n",
       "      <td>25764</td>\n",
       "      <td>2024</td>\n",
       "      <td>Bobby Witt Jr.</td>\n",
       "      <td>KCR</td>\n",
       "      <td>24</td>\n",
       "      <td>161</td>\n",
       "      <td>636</td>\n",
       "      <td>709</td>\n",
       "      <td>211</td>\n",
       "      <td>123</td>\n",
       "      <td>...</td>\n",
       "      <td>260</td>\n",
       "      <td>0.483</td>\n",
       "      <td>538</td>\n",
       "      <td>0.138</td>\n",
       "      <td>0.236</td>\n",
       "      <td>0.315</td>\n",
       "      <td>0.576</td>\n",
       "      <td>0.407</td>\n",
       "      <td>10.5</td>\n",
       "      <td>0</td>\n",
       "    </tr>\n",
       "    <tr>\n",
       "      <th>3</th>\n",
       "      <td>13611</td>\n",
       "      <td>2018</td>\n",
       "      <td>Mookie Betts</td>\n",
       "      <td>BOS</td>\n",
       "      <td>25</td>\n",
       "      <td>136</td>\n",
       "      <td>520</td>\n",
       "      <td>614</td>\n",
       "      <td>180</td>\n",
       "      <td>96</td>\n",
       "      <td>...</td>\n",
       "      <td>218</td>\n",
       "      <td>0.502</td>\n",
       "      <td>434</td>\n",
       "      <td>0.220</td>\n",
       "      <td>0.270</td>\n",
       "      <td>0.309</td>\n",
       "      <td>0.607</td>\n",
       "      <td>0.431</td>\n",
       "      <td>10.4</td>\n",
       "      <td>1</td>\n",
       "    </tr>\n",
       "    <tr>\n",
       "      <th>4</th>\n",
       "      <td>10155</td>\n",
       "      <td>2018</td>\n",
       "      <td>Mike Trout</td>\n",
       "      <td>LAA</td>\n",
       "      <td>26</td>\n",
       "      <td>140</td>\n",
       "      <td>471</td>\n",
       "      <td>608</td>\n",
       "      <td>147</td>\n",
       "      <td>80</td>\n",
       "      <td>...</td>\n",
       "      <td>162</td>\n",
       "      <td>0.460</td>\n",
       "      <td>352</td>\n",
       "      <td>0.201</td>\n",
       "      <td>0.261</td>\n",
       "      <td>0.294</td>\n",
       "      <td>0.603</td>\n",
       "      <td>0.435</td>\n",
       "      <td>9.5</td>\n",
       "      <td>0</td>\n",
       "    </tr>\n",
       "  </tbody>\n",
       "</table>\n",
       "<p>5 rows × 321 columns</p>\n",
       "</div>"
      ],
      "text/plain": [
       "    IDfg  Year          Player Team  Age    G   AB   PA    H   1B  ...  \\\n",
       "0  15640  2024     Aaron Judge  NYY   32  158  559  704  180   85  ...   \n",
       "1  15640  2022     Aaron Judge  NYY   30  157  570  696  177   87  ...   \n",
       "2  25764  2024  Bobby Witt Jr.  KCR   24  161  636  709  211  123  ...   \n",
       "3  13611  2018    Mookie Betts  BOS   25  136  520  614  180   96  ...   \n",
       "4  10155  2018      Mike Trout  LAA   26  140  471  608  147   80  ...   \n",
       "\n",
       "   HardHit  HardHit%  Events  CStr%   CSW%    xBA   xSLG  xwOBA  L-WAR  MVP  \n",
       "0      239     0.611     391  0.146  0.267  0.310  0.724  0.480   11.7    1  \n",
       "1      247     0.611     404  0.169  0.287  0.305  0.706  0.463   11.4    1  \n",
       "2      260     0.483     538  0.138  0.236  0.315  0.576  0.407   10.5    0  \n",
       "3      218     0.502     434  0.220  0.270  0.309  0.607  0.431   10.4    1  \n",
       "4      162     0.460     352  0.201  0.261  0.294  0.603  0.435    9.5    0  \n",
       "\n",
       "[5 rows x 321 columns]"
      ]
     },
     "execution_count": 15,
     "metadata": {},
     "output_type": "execute_result"
    }
   ],
   "source": [
    "# Add merge-friendly names\n",
    "bat_10years = pb.batting_stats(2014, 2024)\n",
    "\n",
    "bat_10years.rename(columns={\"Name\": \"Player\", \"Season\": \"Year\"}, inplace=True)\n",
    "\n",
    "# Merge with MVP data\n",
    "merged = pd.merge(bat_10years, mvp_df, on=[\"Player\", \"Year\"], how=\"left\")\n",
    "\n",
    "# Add binary MVP target column\n",
    "merged[\"MVP\"] = merged[\"League\"].notna().astype(int)\n",
    "\n",
    "# Drop extra columns from the MVP list\n",
    "merged.drop(columns=[\"Team_y\", \"Position\", \"League\"], inplace=True, errors=\"ignore\")\n",
    "merged.rename(columns={\"Team_x\": \"Team\"}, inplace=True)\n",
    "\n",
    "print(\"Shape after merge:\", merged.shape)\n",
    "merged.head()\n"
   ]
  },
  {
   "cell_type": "markdown",
   "id": "f9a138b6",
   "metadata": {},
   "source": [
    "### Select Predictive Features\n",
    "\n",
    "Here, we will select features / stats that I believe to be the most influential in determining a player's chances in winning the MVP. "
   ]
  },
  {
   "cell_type": "code",
   "execution_count": 28,
   "id": "f8c8a785",
   "metadata": {},
   "outputs": [],
   "source": [
    "numeric_cols = [\n",
    "    \"WAR\", \"wRC+\", \"OPS\", \"HR\", \"RBI\", \"R\", \"OBP\", \"SLG\", \"AVG\",\n",
    "    \"SB\", \"BB%\", \"K%\", \"wOBA\", \"Age\"\n",
    "]\n",
    "\n",
    "# Filter out rows missing key stats\n",
    "data = merged[[\"Player\", \"Year\"] + numeric_cols + [\"MVP\"]].dropna()\n",
    "\n",
    "X = data[numeric_cols]\n",
    "y = data[\"MVP\"]\n",
    "meta = data[[\"Player\", \"Year\"]]  # to keep track of names"
   ]
  },
  {
   "cell_type": "markdown",
   "id": "26a1367e",
   "metadata": {},
   "source": [
    "## Train-Test Split + MLP Model"
   ]
  },
  {
   "cell_type": "code",
   "execution_count": 29,
   "id": "527b01a1",
   "metadata": {},
   "outputs": [],
   "source": [
    "from sklearn.model_selection import train_test_split\n",
    "from sklearn.preprocessing import StandardScaler\n",
    "import torch\n",
    "\n",
    "X_train, X_test, y_train, y_test, meta_train, meta_test = train_test_split(\n",
    "    X, y, meta, test_size=0.2, stratify=y, random_state=42\n",
    ")\n",
    "\n",
    "# Scale numeric features\n",
    "scaler = StandardScaler()\n",
    "X_train_scaled = scaler.fit_transform(X_train)\n",
    "X_test_scaled = scaler.transform(X_test)\n",
    "\n",
    "# Convert to tensors\n",
    "X_train_t = torch.tensor(X_train_scaled, dtype=torch.float32)\n",
    "y_train_t = torch.tensor(y_train.values, dtype=torch.float32).view(-1, 1)\n",
    "X_test_t = torch.tensor(X_test_scaled, dtype=torch.float32)\n",
    "y_test_t = torch.tensor(y_test.values, dtype=torch.float32).view(-1, 1)\n"
   ]
  },
  {
   "cell_type": "code",
   "execution_count": 30,
   "id": "6f7972ff",
   "metadata": {},
   "outputs": [],
   "source": [
    "import torch.nn as nn\n",
    "\n",
    "class MVPNet(nn.Module):\n",
    "    def __init__(self, input_dim):\n",
    "        super().__init__()\n",
    "        self.net = nn.Sequential(\n",
    "            nn.Linear(input_dim, 64),\n",
    "            nn.ReLU(),\n",
    "            nn.Dropout(0.2),\n",
    "            nn.Linear(64, 32),\n",
    "            nn.ReLU(),\n",
    "            nn.Linear(32, 1),\n",
    "            nn.Sigmoid()\n",
    "        )\n",
    "\n",
    "    def forward(self, x):\n",
    "        return self.net(x)\n",
    "\n",
    "model = MVPNet(X_train.shape[1])\n"
   ]
  },
  {
   "cell_type": "code",
   "execution_count": 31,
   "id": "9549434d",
   "metadata": {},
   "outputs": [
    {
     "ename": "TypeError",
     "evalue": "linear(): argument 'input' (position 1) must be Tensor, not DataFrame",
     "output_type": "error",
     "traceback": [
      "\u001b[31m---------------------------------------------------------------------------\u001b[39m",
      "\u001b[31mTypeError\u001b[39m                                 Traceback (most recent call last)",
      "\u001b[36mCell\u001b[39m\u001b[36m \u001b[39m\u001b[32mIn[31]\u001b[39m\u001b[32m, line 11\u001b[39m\n\u001b[32m      8\u001b[39m model.train()\n\u001b[32m      9\u001b[39m optimizer.zero_grad()\n\u001b[32m---> \u001b[39m\u001b[32m11\u001b[39m outputs = \u001b[43mmodel\u001b[49m\u001b[43m(\u001b[49m\u001b[43mX_train\u001b[49m\u001b[43m)\u001b[49m\n\u001b[32m     12\u001b[39m loss = criterion(outputs, y_train)\n\u001b[32m     14\u001b[39m loss.backward()\n",
      "\u001b[36mFile \u001b[39m\u001b[32mc:\\Users\\berge\\anaconda3\\envs\\baseball-analysis\\Lib\\site-packages\\torch\\nn\\modules\\module.py:1775\u001b[39m, in \u001b[36mModule._wrapped_call_impl\u001b[39m\u001b[34m(self, *args, **kwargs)\u001b[39m\n\u001b[32m   1773\u001b[39m     \u001b[38;5;28;01mreturn\u001b[39;00m \u001b[38;5;28mself\u001b[39m._compiled_call_impl(*args, **kwargs)  \u001b[38;5;66;03m# type: ignore[misc]\u001b[39;00m\n\u001b[32m   1774\u001b[39m \u001b[38;5;28;01melse\u001b[39;00m:\n\u001b[32m-> \u001b[39m\u001b[32m1775\u001b[39m     \u001b[38;5;28;01mreturn\u001b[39;00m \u001b[38;5;28;43mself\u001b[39;49m\u001b[43m.\u001b[49m\u001b[43m_call_impl\u001b[49m\u001b[43m(\u001b[49m\u001b[43m*\u001b[49m\u001b[43margs\u001b[49m\u001b[43m,\u001b[49m\u001b[43m \u001b[49m\u001b[43m*\u001b[49m\u001b[43m*\u001b[49m\u001b[43mkwargs\u001b[49m\u001b[43m)\u001b[49m\n",
      "\u001b[36mFile \u001b[39m\u001b[32mc:\\Users\\berge\\anaconda3\\envs\\baseball-analysis\\Lib\\site-packages\\torch\\nn\\modules\\module.py:1786\u001b[39m, in \u001b[36mModule._call_impl\u001b[39m\u001b[34m(self, *args, **kwargs)\u001b[39m\n\u001b[32m   1781\u001b[39m \u001b[38;5;66;03m# If we don't have any hooks, we want to skip the rest of the logic in\u001b[39;00m\n\u001b[32m   1782\u001b[39m \u001b[38;5;66;03m# this function, and just call forward.\u001b[39;00m\n\u001b[32m   1783\u001b[39m \u001b[38;5;28;01mif\u001b[39;00m \u001b[38;5;129;01mnot\u001b[39;00m (\u001b[38;5;28mself\u001b[39m._backward_hooks \u001b[38;5;129;01mor\u001b[39;00m \u001b[38;5;28mself\u001b[39m._backward_pre_hooks \u001b[38;5;129;01mor\u001b[39;00m \u001b[38;5;28mself\u001b[39m._forward_hooks \u001b[38;5;129;01mor\u001b[39;00m \u001b[38;5;28mself\u001b[39m._forward_pre_hooks\n\u001b[32m   1784\u001b[39m         \u001b[38;5;129;01mor\u001b[39;00m _global_backward_pre_hooks \u001b[38;5;129;01mor\u001b[39;00m _global_backward_hooks\n\u001b[32m   1785\u001b[39m         \u001b[38;5;129;01mor\u001b[39;00m _global_forward_hooks \u001b[38;5;129;01mor\u001b[39;00m _global_forward_pre_hooks):\n\u001b[32m-> \u001b[39m\u001b[32m1786\u001b[39m     \u001b[38;5;28;01mreturn\u001b[39;00m \u001b[43mforward_call\u001b[49m\u001b[43m(\u001b[49m\u001b[43m*\u001b[49m\u001b[43margs\u001b[49m\u001b[43m,\u001b[49m\u001b[43m \u001b[49m\u001b[43m*\u001b[49m\u001b[43m*\u001b[49m\u001b[43mkwargs\u001b[49m\u001b[43m)\u001b[49m\n\u001b[32m   1788\u001b[39m result = \u001b[38;5;28;01mNone\u001b[39;00m\n\u001b[32m   1789\u001b[39m called_always_called_hooks = \u001b[38;5;28mset\u001b[39m()\n",
      "\u001b[36mCell\u001b[39m\u001b[36m \u001b[39m\u001b[32mIn[30]\u001b[39m\u001b[32m, line 17\u001b[39m, in \u001b[36mMVPNet.forward\u001b[39m\u001b[34m(self, x)\u001b[39m\n\u001b[32m     16\u001b[39m \u001b[38;5;28;01mdef\u001b[39;00m\u001b[38;5;250m \u001b[39m\u001b[34mforward\u001b[39m(\u001b[38;5;28mself\u001b[39m, x):\n\u001b[32m---> \u001b[39m\u001b[32m17\u001b[39m     \u001b[38;5;28;01mreturn\u001b[39;00m \u001b[38;5;28;43mself\u001b[39;49m\u001b[43m.\u001b[49m\u001b[43mnet\u001b[49m\u001b[43m(\u001b[49m\u001b[43mx\u001b[49m\u001b[43m)\u001b[49m\n",
      "\u001b[36mFile \u001b[39m\u001b[32mc:\\Users\\berge\\anaconda3\\envs\\baseball-analysis\\Lib\\site-packages\\torch\\nn\\modules\\module.py:1775\u001b[39m, in \u001b[36mModule._wrapped_call_impl\u001b[39m\u001b[34m(self, *args, **kwargs)\u001b[39m\n\u001b[32m   1773\u001b[39m     \u001b[38;5;28;01mreturn\u001b[39;00m \u001b[38;5;28mself\u001b[39m._compiled_call_impl(*args, **kwargs)  \u001b[38;5;66;03m# type: ignore[misc]\u001b[39;00m\n\u001b[32m   1774\u001b[39m \u001b[38;5;28;01melse\u001b[39;00m:\n\u001b[32m-> \u001b[39m\u001b[32m1775\u001b[39m     \u001b[38;5;28;01mreturn\u001b[39;00m \u001b[38;5;28;43mself\u001b[39;49m\u001b[43m.\u001b[49m\u001b[43m_call_impl\u001b[49m\u001b[43m(\u001b[49m\u001b[43m*\u001b[49m\u001b[43margs\u001b[49m\u001b[43m,\u001b[49m\u001b[43m \u001b[49m\u001b[43m*\u001b[49m\u001b[43m*\u001b[49m\u001b[43mkwargs\u001b[49m\u001b[43m)\u001b[49m\n",
      "\u001b[36mFile \u001b[39m\u001b[32mc:\\Users\\berge\\anaconda3\\envs\\baseball-analysis\\Lib\\site-packages\\torch\\nn\\modules\\module.py:1786\u001b[39m, in \u001b[36mModule._call_impl\u001b[39m\u001b[34m(self, *args, **kwargs)\u001b[39m\n\u001b[32m   1781\u001b[39m \u001b[38;5;66;03m# If we don't have any hooks, we want to skip the rest of the logic in\u001b[39;00m\n\u001b[32m   1782\u001b[39m \u001b[38;5;66;03m# this function, and just call forward.\u001b[39;00m\n\u001b[32m   1783\u001b[39m \u001b[38;5;28;01mif\u001b[39;00m \u001b[38;5;129;01mnot\u001b[39;00m (\u001b[38;5;28mself\u001b[39m._backward_hooks \u001b[38;5;129;01mor\u001b[39;00m \u001b[38;5;28mself\u001b[39m._backward_pre_hooks \u001b[38;5;129;01mor\u001b[39;00m \u001b[38;5;28mself\u001b[39m._forward_hooks \u001b[38;5;129;01mor\u001b[39;00m \u001b[38;5;28mself\u001b[39m._forward_pre_hooks\n\u001b[32m   1784\u001b[39m         \u001b[38;5;129;01mor\u001b[39;00m _global_backward_pre_hooks \u001b[38;5;129;01mor\u001b[39;00m _global_backward_hooks\n\u001b[32m   1785\u001b[39m         \u001b[38;5;129;01mor\u001b[39;00m _global_forward_hooks \u001b[38;5;129;01mor\u001b[39;00m _global_forward_pre_hooks):\n\u001b[32m-> \u001b[39m\u001b[32m1786\u001b[39m     \u001b[38;5;28;01mreturn\u001b[39;00m \u001b[43mforward_call\u001b[49m\u001b[43m(\u001b[49m\u001b[43m*\u001b[49m\u001b[43margs\u001b[49m\u001b[43m,\u001b[49m\u001b[43m \u001b[49m\u001b[43m*\u001b[49m\u001b[43m*\u001b[49m\u001b[43mkwargs\u001b[49m\u001b[43m)\u001b[49m\n\u001b[32m   1788\u001b[39m result = \u001b[38;5;28;01mNone\u001b[39;00m\n\u001b[32m   1789\u001b[39m called_always_called_hooks = \u001b[38;5;28mset\u001b[39m()\n",
      "\u001b[36mFile \u001b[39m\u001b[32mc:\\Users\\berge\\anaconda3\\envs\\baseball-analysis\\Lib\\site-packages\\torch\\nn\\modules\\container.py:250\u001b[39m, in \u001b[36mSequential.forward\u001b[39m\u001b[34m(self, input)\u001b[39m\n\u001b[32m    246\u001b[39m \u001b[38;5;250m\u001b[39m\u001b[33;03m\"\"\"\u001b[39;00m\n\u001b[32m    247\u001b[39m \u001b[33;03mRuns the forward pass.\u001b[39;00m\n\u001b[32m    248\u001b[39m \u001b[33;03m\"\"\"\u001b[39;00m\n\u001b[32m    249\u001b[39m \u001b[38;5;28;01mfor\u001b[39;00m module \u001b[38;5;129;01min\u001b[39;00m \u001b[38;5;28mself\u001b[39m:\n\u001b[32m--> \u001b[39m\u001b[32m250\u001b[39m     \u001b[38;5;28minput\u001b[39m = \u001b[43mmodule\u001b[49m\u001b[43m(\u001b[49m\u001b[38;5;28;43minput\u001b[39;49m\u001b[43m)\u001b[49m\n\u001b[32m    251\u001b[39m \u001b[38;5;28;01mreturn\u001b[39;00m \u001b[38;5;28minput\u001b[39m\n",
      "\u001b[36mFile \u001b[39m\u001b[32mc:\\Users\\berge\\anaconda3\\envs\\baseball-analysis\\Lib\\site-packages\\torch\\nn\\modules\\module.py:1775\u001b[39m, in \u001b[36mModule._wrapped_call_impl\u001b[39m\u001b[34m(self, *args, **kwargs)\u001b[39m\n\u001b[32m   1773\u001b[39m     \u001b[38;5;28;01mreturn\u001b[39;00m \u001b[38;5;28mself\u001b[39m._compiled_call_impl(*args, **kwargs)  \u001b[38;5;66;03m# type: ignore[misc]\u001b[39;00m\n\u001b[32m   1774\u001b[39m \u001b[38;5;28;01melse\u001b[39;00m:\n\u001b[32m-> \u001b[39m\u001b[32m1775\u001b[39m     \u001b[38;5;28;01mreturn\u001b[39;00m \u001b[38;5;28;43mself\u001b[39;49m\u001b[43m.\u001b[49m\u001b[43m_call_impl\u001b[49m\u001b[43m(\u001b[49m\u001b[43m*\u001b[49m\u001b[43margs\u001b[49m\u001b[43m,\u001b[49m\u001b[43m \u001b[49m\u001b[43m*\u001b[49m\u001b[43m*\u001b[49m\u001b[43mkwargs\u001b[49m\u001b[43m)\u001b[49m\n",
      "\u001b[36mFile \u001b[39m\u001b[32mc:\\Users\\berge\\anaconda3\\envs\\baseball-analysis\\Lib\\site-packages\\torch\\nn\\modules\\module.py:1786\u001b[39m, in \u001b[36mModule._call_impl\u001b[39m\u001b[34m(self, *args, **kwargs)\u001b[39m\n\u001b[32m   1781\u001b[39m \u001b[38;5;66;03m# If we don't have any hooks, we want to skip the rest of the logic in\u001b[39;00m\n\u001b[32m   1782\u001b[39m \u001b[38;5;66;03m# this function, and just call forward.\u001b[39;00m\n\u001b[32m   1783\u001b[39m \u001b[38;5;28;01mif\u001b[39;00m \u001b[38;5;129;01mnot\u001b[39;00m (\u001b[38;5;28mself\u001b[39m._backward_hooks \u001b[38;5;129;01mor\u001b[39;00m \u001b[38;5;28mself\u001b[39m._backward_pre_hooks \u001b[38;5;129;01mor\u001b[39;00m \u001b[38;5;28mself\u001b[39m._forward_hooks \u001b[38;5;129;01mor\u001b[39;00m \u001b[38;5;28mself\u001b[39m._forward_pre_hooks\n\u001b[32m   1784\u001b[39m         \u001b[38;5;129;01mor\u001b[39;00m _global_backward_pre_hooks \u001b[38;5;129;01mor\u001b[39;00m _global_backward_hooks\n\u001b[32m   1785\u001b[39m         \u001b[38;5;129;01mor\u001b[39;00m _global_forward_hooks \u001b[38;5;129;01mor\u001b[39;00m _global_forward_pre_hooks):\n\u001b[32m-> \u001b[39m\u001b[32m1786\u001b[39m     \u001b[38;5;28;01mreturn\u001b[39;00m \u001b[43mforward_call\u001b[49m\u001b[43m(\u001b[49m\u001b[43m*\u001b[49m\u001b[43margs\u001b[49m\u001b[43m,\u001b[49m\u001b[43m \u001b[49m\u001b[43m*\u001b[49m\u001b[43m*\u001b[49m\u001b[43mkwargs\u001b[49m\u001b[43m)\u001b[49m\n\u001b[32m   1788\u001b[39m result = \u001b[38;5;28;01mNone\u001b[39;00m\n\u001b[32m   1789\u001b[39m called_always_called_hooks = \u001b[38;5;28mset\u001b[39m()\n",
      "\u001b[36mFile \u001b[39m\u001b[32mc:\\Users\\berge\\anaconda3\\envs\\baseball-analysis\\Lib\\site-packages\\torch\\nn\\modules\\linear.py:134\u001b[39m, in \u001b[36mLinear.forward\u001b[39m\u001b[34m(self, input)\u001b[39m\n\u001b[32m    130\u001b[39m \u001b[38;5;28;01mdef\u001b[39;00m\u001b[38;5;250m \u001b[39m\u001b[34mforward\u001b[39m(\u001b[38;5;28mself\u001b[39m, \u001b[38;5;28minput\u001b[39m: Tensor) -> Tensor:\n\u001b[32m    131\u001b[39m \u001b[38;5;250m    \u001b[39m\u001b[33;03m\"\"\"\u001b[39;00m\n\u001b[32m    132\u001b[39m \u001b[33;03m    Runs the forward pass.\u001b[39;00m\n\u001b[32m    133\u001b[39m \u001b[33;03m    \"\"\"\u001b[39;00m\n\u001b[32m--> \u001b[39m\u001b[32m134\u001b[39m     \u001b[38;5;28;01mreturn\u001b[39;00m \u001b[43mF\u001b[49m\u001b[43m.\u001b[49m\u001b[43mlinear\u001b[49m\u001b[43m(\u001b[49m\u001b[38;5;28;43minput\u001b[39;49m\u001b[43m,\u001b[49m\u001b[43m \u001b[49m\u001b[38;5;28;43mself\u001b[39;49m\u001b[43m.\u001b[49m\u001b[43mweight\u001b[49m\u001b[43m,\u001b[49m\u001b[43m \u001b[49m\u001b[38;5;28;43mself\u001b[39;49m\u001b[43m.\u001b[49m\u001b[43mbias\u001b[49m\u001b[43m)\u001b[49m\n",
      "\u001b[31mTypeError\u001b[39m: linear(): argument 'input' (position 1) must be Tensor, not DataFrame"
     ]
    }
   ],
   "source": [
    "import torch.optim as optim\n",
    "\n",
    "criterion = nn.BCELoss()\n",
    "optimizer = optim.Adam(model.parameters(), lr=1e-3)\n",
    "\n",
    "epochs = 50\n",
    "for epoch in range(epochs):\n",
    "    model.train()\n",
    "    optimizer.zero_grad()\n",
    "    \n",
    "    outputs = model(X_train)\n",
    "    loss = criterion(outputs, y_train)\n",
    "    \n",
    "    loss.backward()\n",
    "    optimizer.step()\n",
    "\n",
    "    if (epoch+1) % 10 == 0:\n",
    "        print(f\"Epoch {epoch+1}/{epochs}, Loss: {loss.item():.4f}\")\n"
   ]
  },
  {
   "cell_type": "markdown",
   "id": "f57704f1",
   "metadata": {},
   "source": [
    "## Evaluation of the Model"
   ]
  },
  {
   "cell_type": "code",
   "execution_count": null,
   "id": "de99a7a5",
   "metadata": {},
   "outputs": [
    {
     "name": "stdout",
     "output_type": "stream",
     "text": [
      "Accuracy: 0.987\n"
     ]
    }
   ],
   "source": [
    "model.eval()\n",
    "with torch.no_grad():\n",
    "    preds = model(X_test_t)\n",
    "    probs = preds.numpy().flatten()\n",
    "\n",
    "df_results = pd.DataFrame(X_test_t.numpy(), columns=numeric_cols)\n",
    "df_results[\"MVP_Prob\"] = probs\n",
    "df_results[\"True_MVP\"] = y_test_t.numpy().flatten()\n",
    "\n",
    "# Merge the metadata (Player, Year)\n",
    "df_results = pd.concat([meta_test.reset_index(drop=True), df_results], axis=1)\n",
    "\n",
    "top_candidates = df_results.sort_values(\"MVP_Prob\", ascending=False).head(20)\n",
    "top_candidates[[\"Player\", \"Year\", \"MVP_Prob\", \"True_MVP\"] + numeric_cols]\n",
    "\n"
   ]
  }
 ],
 "metadata": {
  "kernelspec": {
   "display_name": "baseball-analysis",
   "language": "python",
   "name": "python3"
  },
  "language_info": {
   "codemirror_mode": {
    "name": "ipython",
    "version": 3
   },
   "file_extension": ".py",
   "mimetype": "text/x-python",
   "name": "python",
   "nbconvert_exporter": "python",
   "pygments_lexer": "ipython3",
   "version": "3.12.12"
  }
 },
 "nbformat": 4,
 "nbformat_minor": 5
}
